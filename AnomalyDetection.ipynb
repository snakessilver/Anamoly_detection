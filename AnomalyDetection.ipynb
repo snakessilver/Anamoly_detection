{
  "cells": [
    {
      "cell_type": "markdown",
      "id": "c54a6780",
      "metadata": {
        "id": "c54a6780"
      },
      "source": [
        "# Anomaly Detection"
      ]
    },
    {
      "cell_type": "markdown",
      "source": [
        "## Import required libraries and the dataset, if not available pip install them\n"
      ],
      "metadata": {
        "id": "qk_aO8AEpTA2"
      },
      "id": "qk_aO8AEpTA2"
    },
    {
      "cell_type": "code",
      "execution_count": null,
      "id": "1bd5a350",
      "metadata": {
        "id": "1bd5a350"
      },
      "outputs": [],
      "source": [
        "# Import required libraries and the dataset, if not available pip install them\n",
        "import matplotlib.pyplot as plt\n",
        "import numpy as np\n",
        "import pandas as pd\n",
        "import seaborn as sns\n",
        "from numpy import array\n",
        "from sklearn.model_selection import train_test_split\n",
        "from sklearn.model_selection import KFold, StratifiedShuffleSplit\n",
        "from sklearn import naive_bayes, metrics\n",
        "from sklearn.preprocessing import MinMaxScaler, StandardScaler\n",
        "from sklearn.naive_bayes import GaussianNB, BernoulliNB, MultinomialNB\n",
        "from sklearn.metrics import accuracy_score, r2_score, precision_score, recall_score, f1_score, confusion_matrix, mean_absolute_error\n",
        "from sklearn.preprocessing import LabelEncoder\n",
        "from tabulate import tabulate\n",
        "import warnings\n",
        "warnings.filterwarnings(\"ignore\", category = DeprecationWarning)\n",
        "\n"
      ]
    },
    {
      "cell_type": "markdown",
      "id": "702e8723",
      "metadata": {
        "id": "702e8723"
      },
      "source": [
        "# Data Visualization and Exploration"
      ]
    },
    {
      "cell_type": "code",
      "execution_count": null,
      "id": "60f50c79",
      "metadata": {
        "id": "60f50c79"
      },
      "outputs": [],
      "source": [
        "def read_data_set():\n",
        "    # Reading data_set\n",
        "    return pd.read_csv(\"https://raw.githubusercontent.com/snakessilver/Anamoly_detection/main/Anamoly.csv\")\n"
      ]
    },
    {
      "cell_type": "code",
      "execution_count": null,
      "id": "6cceb873",
      "metadata": {
        "id": "6cceb873"
      },
      "outputs": [],
      "source": [
        "#read the data set from the provided cvs\n",
        "df = read_data_set()\n",
        "\n"
      ]
    },
    {
      "cell_type": "code",
      "execution_count": null,
      "id": "c447f3fc",
      "metadata": {
        "id": "c447f3fc",
        "outputId": "775d1d7c-df7a-43df-eca4-2ee6c605d491",
        "colab": {
          "base_uri": "https://localhost:8080/"
        }
      },
      "outputs": [
        {
          "output_type": "stream",
          "name": "stdout",
          "text": [
            "======Shape(Rows, Columns) of Data Set ====== (22544, 40)\n"
          ]
        }
      ],
      "source": [
        "# size of data set - rows and column count\n",
        "print(\"======Shape(Rows, Columns) of Data Set ======\", df.shape)\n"
      ]
    },
    {
      "cell_type": "code",
      "execution_count": null,
      "id": "75599af2",
      "metadata": {
        "id": "75599af2",
        "outputId": "7259f70c-bd5c-4643-8662-a72dd97a352c",
        "colab": {
          "base_uri": "https://localhost:8080/",
          "height": 223
        }
      },
      "outputs": [
        {
          "output_type": "stream",
          "name": "stdout",
          "text": [
            "======First 2 records of Data Set ======\n"
          ]
        },
        {
          "output_type": "execute_result",
          "data": {
            "text/plain": [
              "   duration protocol_type  service flag  src_bytes  dst_bytes  land  \\\n",
              "0         0           tcp  private  REJ          0          0     0   \n",
              "1         0           tcp  private  REJ          0          0     0   \n",
              "\n",
              "   wrong_fragment  hot  num_failed_logins  ...  dst_host_srv_count  \\\n",
              "0               0    0                  0  ...                10.0   \n",
              "1               0    0                  0  ...                 1.0   \n",
              "\n",
              "   dst_host_same_srv_rate  dst_host_diff_srv_rate  \\\n",
              "0                    0.04                    0.06   \n",
              "1                    0.00                    0.06   \n",
              "\n",
              "   dst_host_same_src_port_rate  dst_host_srv_diff_host_rate  \\\n",
              "0                          0.0                          0.0   \n",
              "1                          0.0                          0.0   \n",
              "\n",
              "   dst_host_serror_rate  dst_host_srv_serror_rate  dst_host_rerror_rate  \\\n",
              "0                   0.0                       0.0                   1.0   \n",
              "1                   0.0                       0.0                   1.0   \n",
              "\n",
              "   dst_host_srv_rerror_rate    class  \n",
              "0                       1.0  anomaly  \n",
              "1                       1.0  anomaly  \n",
              "\n",
              "[2 rows x 40 columns]"
            ],
            "text/html": [
              "\n",
              "  <div id=\"df-7dbc2fae-9470-4560-a0ec-08a5e057b340\">\n",
              "    <div class=\"colab-df-container\">\n",
              "      <div>\n",
              "<style scoped>\n",
              "    .dataframe tbody tr th:only-of-type {\n",
              "        vertical-align: middle;\n",
              "    }\n",
              "\n",
              "    .dataframe tbody tr th {\n",
              "        vertical-align: top;\n",
              "    }\n",
              "\n",
              "    .dataframe thead th {\n",
              "        text-align: right;\n",
              "    }\n",
              "</style>\n",
              "<table border=\"1\" class=\"dataframe\">\n",
              "  <thead>\n",
              "    <tr style=\"text-align: right;\">\n",
              "      <th></th>\n",
              "      <th>duration</th>\n",
              "      <th>protocol_type</th>\n",
              "      <th>service</th>\n",
              "      <th>flag</th>\n",
              "      <th>src_bytes</th>\n",
              "      <th>dst_bytes</th>\n",
              "      <th>land</th>\n",
              "      <th>wrong_fragment</th>\n",
              "      <th>hot</th>\n",
              "      <th>num_failed_logins</th>\n",
              "      <th>...</th>\n",
              "      <th>dst_host_srv_count</th>\n",
              "      <th>dst_host_same_srv_rate</th>\n",
              "      <th>dst_host_diff_srv_rate</th>\n",
              "      <th>dst_host_same_src_port_rate</th>\n",
              "      <th>dst_host_srv_diff_host_rate</th>\n",
              "      <th>dst_host_serror_rate</th>\n",
              "      <th>dst_host_srv_serror_rate</th>\n",
              "      <th>dst_host_rerror_rate</th>\n",
              "      <th>dst_host_srv_rerror_rate</th>\n",
              "      <th>class</th>\n",
              "    </tr>\n",
              "  </thead>\n",
              "  <tbody>\n",
              "    <tr>\n",
              "      <th>0</th>\n",
              "      <td>0</td>\n",
              "      <td>tcp</td>\n",
              "      <td>private</td>\n",
              "      <td>REJ</td>\n",
              "      <td>0</td>\n",
              "      <td>0</td>\n",
              "      <td>0</td>\n",
              "      <td>0</td>\n",
              "      <td>0</td>\n",
              "      <td>0</td>\n",
              "      <td>...</td>\n",
              "      <td>10.0</td>\n",
              "      <td>0.04</td>\n",
              "      <td>0.06</td>\n",
              "      <td>0.0</td>\n",
              "      <td>0.0</td>\n",
              "      <td>0.0</td>\n",
              "      <td>0.0</td>\n",
              "      <td>1.0</td>\n",
              "      <td>1.0</td>\n",
              "      <td>anomaly</td>\n",
              "    </tr>\n",
              "    <tr>\n",
              "      <th>1</th>\n",
              "      <td>0</td>\n",
              "      <td>tcp</td>\n",
              "      <td>private</td>\n",
              "      <td>REJ</td>\n",
              "      <td>0</td>\n",
              "      <td>0</td>\n",
              "      <td>0</td>\n",
              "      <td>0</td>\n",
              "      <td>0</td>\n",
              "      <td>0</td>\n",
              "      <td>...</td>\n",
              "      <td>1.0</td>\n",
              "      <td>0.00</td>\n",
              "      <td>0.06</td>\n",
              "      <td>0.0</td>\n",
              "      <td>0.0</td>\n",
              "      <td>0.0</td>\n",
              "      <td>0.0</td>\n",
              "      <td>1.0</td>\n",
              "      <td>1.0</td>\n",
              "      <td>anomaly</td>\n",
              "    </tr>\n",
              "  </tbody>\n",
              "</table>\n",
              "<p>2 rows × 40 columns</p>\n",
              "</div>\n",
              "      <button class=\"colab-df-convert\" onclick=\"convertToInteractive('df-7dbc2fae-9470-4560-a0ec-08a5e057b340')\"\n",
              "              title=\"Convert this dataframe to an interactive table.\"\n",
              "              style=\"display:none;\">\n",
              "        \n",
              "  <svg xmlns=\"http://www.w3.org/2000/svg\" height=\"24px\"viewBox=\"0 0 24 24\"\n",
              "       width=\"24px\">\n",
              "    <path d=\"M0 0h24v24H0V0z\" fill=\"none\"/>\n",
              "    <path d=\"M18.56 5.44l.94 2.06.94-2.06 2.06-.94-2.06-.94-.94-2.06-.94 2.06-2.06.94zm-11 1L8.5 8.5l.94-2.06 2.06-.94-2.06-.94L8.5 2.5l-.94 2.06-2.06.94zm10 10l.94 2.06.94-2.06 2.06-.94-2.06-.94-.94-2.06-.94 2.06-2.06.94z\"/><path d=\"M17.41 7.96l-1.37-1.37c-.4-.4-.92-.59-1.43-.59-.52 0-1.04.2-1.43.59L10.3 9.45l-7.72 7.72c-.78.78-.78 2.05 0 2.83L4 21.41c.39.39.9.59 1.41.59.51 0 1.02-.2 1.41-.59l7.78-7.78 2.81-2.81c.8-.78.8-2.07 0-2.86zM5.41 20L4 18.59l7.72-7.72 1.47 1.35L5.41 20z\"/>\n",
              "  </svg>\n",
              "      </button>\n",
              "      \n",
              "  <style>\n",
              "    .colab-df-container {\n",
              "      display:flex;\n",
              "      flex-wrap:wrap;\n",
              "      gap: 12px;\n",
              "    }\n",
              "\n",
              "    .colab-df-convert {\n",
              "      background-color: #E8F0FE;\n",
              "      border: none;\n",
              "      border-radius: 50%;\n",
              "      cursor: pointer;\n",
              "      display: none;\n",
              "      fill: #1967D2;\n",
              "      height: 32px;\n",
              "      padding: 0 0 0 0;\n",
              "      width: 32px;\n",
              "    }\n",
              "\n",
              "    .colab-df-convert:hover {\n",
              "      background-color: #E2EBFA;\n",
              "      box-shadow: 0px 1px 2px rgba(60, 64, 67, 0.3), 0px 1px 3px 1px rgba(60, 64, 67, 0.15);\n",
              "      fill: #174EA6;\n",
              "    }\n",
              "\n",
              "    [theme=dark] .colab-df-convert {\n",
              "      background-color: #3B4455;\n",
              "      fill: #D2E3FC;\n",
              "    }\n",
              "\n",
              "    [theme=dark] .colab-df-convert:hover {\n",
              "      background-color: #434B5C;\n",
              "      box-shadow: 0px 1px 3px 1px rgba(0, 0, 0, 0.15);\n",
              "      filter: drop-shadow(0px 1px 2px rgba(0, 0, 0, 0.3));\n",
              "      fill: #FFFFFF;\n",
              "    }\n",
              "  </style>\n",
              "\n",
              "      <script>\n",
              "        const buttonEl =\n",
              "          document.querySelector('#df-7dbc2fae-9470-4560-a0ec-08a5e057b340 button.colab-df-convert');\n",
              "        buttonEl.style.display =\n",
              "          google.colab.kernel.accessAllowed ? 'block' : 'none';\n",
              "\n",
              "        async function convertToInteractive(key) {\n",
              "          const element = document.querySelector('#df-7dbc2fae-9470-4560-a0ec-08a5e057b340');\n",
              "          const dataTable =\n",
              "            await google.colab.kernel.invokeFunction('convertToInteractive',\n",
              "                                                     [key], {});\n",
              "          if (!dataTable) return;\n",
              "\n",
              "          const docLinkHtml = 'Like what you see? Visit the ' +\n",
              "            '<a target=\"_blank\" href=https://colab.research.google.com/notebooks/data_table.ipynb>data table notebook</a>'\n",
              "            + ' to learn more about interactive tables.';\n",
              "          element.innerHTML = '';\n",
              "          dataTable['output_type'] = 'display_data';\n",
              "          await google.colab.output.renderOutput(dataTable, element);\n",
              "          const docLink = document.createElement('div');\n",
              "          docLink.innerHTML = docLinkHtml;\n",
              "          element.appendChild(docLink);\n",
              "        }\n",
              "      </script>\n",
              "    </div>\n",
              "  </div>\n",
              "  "
            ]
          },
          "metadata": {},
          "execution_count": 407
        }
      ],
      "source": [
        "print(\"======First 2 records of Data Set ======\")\n",
        "df.head(2)"
      ]
    },
    {
      "cell_type": "code",
      "execution_count": null,
      "id": "a7f1753e",
      "metadata": {
        "id": "a7f1753e",
        "outputId": "404b181f-55ef-49f7-8ea6-f419f42c2b17",
        "colab": {
          "base_uri": "https://localhost:8080/",
          "height": 411
        }
      },
      "outputs": [
        {
          "output_type": "stream",
          "name": "stdout",
          "text": [
            "======Statistics of Data Set ======\n"
          ]
        },
        {
          "output_type": "execute_result",
          "data": {
            "text/plain": [
              "           duration     src_bytes     dst_bytes          land  wrong_fragment  \\\n",
              "count  22544.000000  2.254400e+04  2.254400e+04  22544.000000    22544.000000   \n",
              "mean     218.859076  1.039545e+04  2.056019e+03      0.000311        0.008428   \n",
              "std     1407.176612  4.727864e+05  2.121930e+04      0.017619        0.142599   \n",
              "min        0.000000  0.000000e+00  0.000000e+00      0.000000        0.000000   \n",
              "25%        0.000000  0.000000e+00  0.000000e+00      0.000000        0.000000   \n",
              "50%        0.000000  5.400000e+01  4.600000e+01      0.000000        0.000000   \n",
              "75%        0.000000  2.870000e+02  6.010000e+02      0.000000        0.000000   \n",
              "max    57715.000000  6.282565e+07  1.345927e+06      1.000000        3.000000   \n",
              "\n",
              "                hot  num_failed_logins     logged_in  num_compromised  \\\n",
              "count  22544.000000       22544.000000  22544.000000     22544.000000   \n",
              "mean       0.105394           0.021647      0.442202         0.119899   \n",
              "std        0.928428           0.150328      0.496659         7.269597   \n",
              "min        0.000000           0.000000      0.000000         0.000000   \n",
              "25%        0.000000           0.000000      0.000000         0.000000   \n",
              "50%        0.000000           0.000000      0.000000         0.000000   \n",
              "75%        0.000000           0.000000      1.000000         0.000000   \n",
              "max      101.000000           4.000000      1.000000       796.000000   \n",
              "\n",
              "         root_shell  ...  dst_host_count  dst_host_srv_count  \\\n",
              "count  22544.000000  ...    22531.000000        22532.000000   \n",
              "mean       0.002440  ...      193.863965          140.752663   \n",
              "std        0.049334  ...       94.042593          111.786948   \n",
              "min        0.000000  ...        0.000000            0.000000   \n",
              "25%        0.000000  ...      121.000000           15.000000   \n",
              "50%        0.000000  ...      255.000000          168.000000   \n",
              "75%        0.000000  ...      255.000000          255.000000   \n",
              "max        1.000000  ...      255.000000          255.000000   \n",
              "\n",
              "       dst_host_same_srv_rate  dst_host_diff_srv_rate  \\\n",
              "count            22544.000000            22544.000000   \n",
              "mean                 0.608722                0.090540   \n",
              "std                  0.435688                0.220717   \n",
              "min                  0.000000                0.000000   \n",
              "25%                  0.070000                0.000000   \n",
              "50%                  0.920000                0.010000   \n",
              "75%                  1.000000                0.060000   \n",
              "max                  1.000000                1.000000   \n",
              "\n",
              "       dst_host_same_src_port_rate  dst_host_srv_diff_host_rate  \\\n",
              "count                 22544.000000                 22544.000000   \n",
              "mean                      0.132261                     0.019638   \n",
              "std                       0.306268                     0.085394   \n",
              "min                       0.000000                     0.000000   \n",
              "25%                       0.000000                     0.000000   \n",
              "50%                       0.000000                     0.000000   \n",
              "75%                       0.030000                     0.010000   \n",
              "max                       1.000000                     1.000000   \n",
              "\n",
              "       dst_host_serror_rate  dst_host_srv_serror_rate  dst_host_rerror_rate  \\\n",
              "count          22544.000000              22544.000000          22544.000000   \n",
              "mean               0.097814                  0.099426              0.233385   \n",
              "std                0.273139                  0.281866              0.387229   \n",
              "min                0.000000                  0.000000              0.000000   \n",
              "25%                0.000000                  0.000000              0.000000   \n",
              "50%                0.000000                  0.000000              0.000000   \n",
              "75%                0.000000                  0.000000              0.360000   \n",
              "max                1.000000                  1.000000              1.000000   \n",
              "\n",
              "       dst_host_srv_rerror_rate  \n",
              "count              22544.000000  \n",
              "mean                   0.226683  \n",
              "std                    0.400875  \n",
              "min                    0.000000  \n",
              "25%                    0.000000  \n",
              "50%                    0.000000  \n",
              "75%                    0.170000  \n",
              "max                    1.000000  \n",
              "\n",
              "[8 rows x 36 columns]"
            ],
            "text/html": [
              "\n",
              "  <div id=\"df-84ca964b-143a-4a2e-9293-ce76e7aef2fb\">\n",
              "    <div class=\"colab-df-container\">\n",
              "      <div>\n",
              "<style scoped>\n",
              "    .dataframe tbody tr th:only-of-type {\n",
              "        vertical-align: middle;\n",
              "    }\n",
              "\n",
              "    .dataframe tbody tr th {\n",
              "        vertical-align: top;\n",
              "    }\n",
              "\n",
              "    .dataframe thead th {\n",
              "        text-align: right;\n",
              "    }\n",
              "</style>\n",
              "<table border=\"1\" class=\"dataframe\">\n",
              "  <thead>\n",
              "    <tr style=\"text-align: right;\">\n",
              "      <th></th>\n",
              "      <th>duration</th>\n",
              "      <th>src_bytes</th>\n",
              "      <th>dst_bytes</th>\n",
              "      <th>land</th>\n",
              "      <th>wrong_fragment</th>\n",
              "      <th>hot</th>\n",
              "      <th>num_failed_logins</th>\n",
              "      <th>logged_in</th>\n",
              "      <th>num_compromised</th>\n",
              "      <th>root_shell</th>\n",
              "      <th>...</th>\n",
              "      <th>dst_host_count</th>\n",
              "      <th>dst_host_srv_count</th>\n",
              "      <th>dst_host_same_srv_rate</th>\n",
              "      <th>dst_host_diff_srv_rate</th>\n",
              "      <th>dst_host_same_src_port_rate</th>\n",
              "      <th>dst_host_srv_diff_host_rate</th>\n",
              "      <th>dst_host_serror_rate</th>\n",
              "      <th>dst_host_srv_serror_rate</th>\n",
              "      <th>dst_host_rerror_rate</th>\n",
              "      <th>dst_host_srv_rerror_rate</th>\n",
              "    </tr>\n",
              "  </thead>\n",
              "  <tbody>\n",
              "    <tr>\n",
              "      <th>count</th>\n",
              "      <td>22544.000000</td>\n",
              "      <td>2.254400e+04</td>\n",
              "      <td>2.254400e+04</td>\n",
              "      <td>22544.000000</td>\n",
              "      <td>22544.000000</td>\n",
              "      <td>22544.000000</td>\n",
              "      <td>22544.000000</td>\n",
              "      <td>22544.000000</td>\n",
              "      <td>22544.000000</td>\n",
              "      <td>22544.000000</td>\n",
              "      <td>...</td>\n",
              "      <td>22531.000000</td>\n",
              "      <td>22532.000000</td>\n",
              "      <td>22544.000000</td>\n",
              "      <td>22544.000000</td>\n",
              "      <td>22544.000000</td>\n",
              "      <td>22544.000000</td>\n",
              "      <td>22544.000000</td>\n",
              "      <td>22544.000000</td>\n",
              "      <td>22544.000000</td>\n",
              "      <td>22544.000000</td>\n",
              "    </tr>\n",
              "    <tr>\n",
              "      <th>mean</th>\n",
              "      <td>218.859076</td>\n",
              "      <td>1.039545e+04</td>\n",
              "      <td>2.056019e+03</td>\n",
              "      <td>0.000311</td>\n",
              "      <td>0.008428</td>\n",
              "      <td>0.105394</td>\n",
              "      <td>0.021647</td>\n",
              "      <td>0.442202</td>\n",
              "      <td>0.119899</td>\n",
              "      <td>0.002440</td>\n",
              "      <td>...</td>\n",
              "      <td>193.863965</td>\n",
              "      <td>140.752663</td>\n",
              "      <td>0.608722</td>\n",
              "      <td>0.090540</td>\n",
              "      <td>0.132261</td>\n",
              "      <td>0.019638</td>\n",
              "      <td>0.097814</td>\n",
              "      <td>0.099426</td>\n",
              "      <td>0.233385</td>\n",
              "      <td>0.226683</td>\n",
              "    </tr>\n",
              "    <tr>\n",
              "      <th>std</th>\n",
              "      <td>1407.176612</td>\n",
              "      <td>4.727864e+05</td>\n",
              "      <td>2.121930e+04</td>\n",
              "      <td>0.017619</td>\n",
              "      <td>0.142599</td>\n",
              "      <td>0.928428</td>\n",
              "      <td>0.150328</td>\n",
              "      <td>0.496659</td>\n",
              "      <td>7.269597</td>\n",
              "      <td>0.049334</td>\n",
              "      <td>...</td>\n",
              "      <td>94.042593</td>\n",
              "      <td>111.786948</td>\n",
              "      <td>0.435688</td>\n",
              "      <td>0.220717</td>\n",
              "      <td>0.306268</td>\n",
              "      <td>0.085394</td>\n",
              "      <td>0.273139</td>\n",
              "      <td>0.281866</td>\n",
              "      <td>0.387229</td>\n",
              "      <td>0.400875</td>\n",
              "    </tr>\n",
              "    <tr>\n",
              "      <th>min</th>\n",
              "      <td>0.000000</td>\n",
              "      <td>0.000000e+00</td>\n",
              "      <td>0.000000e+00</td>\n",
              "      <td>0.000000</td>\n",
              "      <td>0.000000</td>\n",
              "      <td>0.000000</td>\n",
              "      <td>0.000000</td>\n",
              "      <td>0.000000</td>\n",
              "      <td>0.000000</td>\n",
              "      <td>0.000000</td>\n",
              "      <td>...</td>\n",
              "      <td>0.000000</td>\n",
              "      <td>0.000000</td>\n",
              "      <td>0.000000</td>\n",
              "      <td>0.000000</td>\n",
              "      <td>0.000000</td>\n",
              "      <td>0.000000</td>\n",
              "      <td>0.000000</td>\n",
              "      <td>0.000000</td>\n",
              "      <td>0.000000</td>\n",
              "      <td>0.000000</td>\n",
              "    </tr>\n",
              "    <tr>\n",
              "      <th>25%</th>\n",
              "      <td>0.000000</td>\n",
              "      <td>0.000000e+00</td>\n",
              "      <td>0.000000e+00</td>\n",
              "      <td>0.000000</td>\n",
              "      <td>0.000000</td>\n",
              "      <td>0.000000</td>\n",
              "      <td>0.000000</td>\n",
              "      <td>0.000000</td>\n",
              "      <td>0.000000</td>\n",
              "      <td>0.000000</td>\n",
              "      <td>...</td>\n",
              "      <td>121.000000</td>\n",
              "      <td>15.000000</td>\n",
              "      <td>0.070000</td>\n",
              "      <td>0.000000</td>\n",
              "      <td>0.000000</td>\n",
              "      <td>0.000000</td>\n",
              "      <td>0.000000</td>\n",
              "      <td>0.000000</td>\n",
              "      <td>0.000000</td>\n",
              "      <td>0.000000</td>\n",
              "    </tr>\n",
              "    <tr>\n",
              "      <th>50%</th>\n",
              "      <td>0.000000</td>\n",
              "      <td>5.400000e+01</td>\n",
              "      <td>4.600000e+01</td>\n",
              "      <td>0.000000</td>\n",
              "      <td>0.000000</td>\n",
              "      <td>0.000000</td>\n",
              "      <td>0.000000</td>\n",
              "      <td>0.000000</td>\n",
              "      <td>0.000000</td>\n",
              "      <td>0.000000</td>\n",
              "      <td>...</td>\n",
              "      <td>255.000000</td>\n",
              "      <td>168.000000</td>\n",
              "      <td>0.920000</td>\n",
              "      <td>0.010000</td>\n",
              "      <td>0.000000</td>\n",
              "      <td>0.000000</td>\n",
              "      <td>0.000000</td>\n",
              "      <td>0.000000</td>\n",
              "      <td>0.000000</td>\n",
              "      <td>0.000000</td>\n",
              "    </tr>\n",
              "    <tr>\n",
              "      <th>75%</th>\n",
              "      <td>0.000000</td>\n",
              "      <td>2.870000e+02</td>\n",
              "      <td>6.010000e+02</td>\n",
              "      <td>0.000000</td>\n",
              "      <td>0.000000</td>\n",
              "      <td>0.000000</td>\n",
              "      <td>0.000000</td>\n",
              "      <td>1.000000</td>\n",
              "      <td>0.000000</td>\n",
              "      <td>0.000000</td>\n",
              "      <td>...</td>\n",
              "      <td>255.000000</td>\n",
              "      <td>255.000000</td>\n",
              "      <td>1.000000</td>\n",
              "      <td>0.060000</td>\n",
              "      <td>0.030000</td>\n",
              "      <td>0.010000</td>\n",
              "      <td>0.000000</td>\n",
              "      <td>0.000000</td>\n",
              "      <td>0.360000</td>\n",
              "      <td>0.170000</td>\n",
              "    </tr>\n",
              "    <tr>\n",
              "      <th>max</th>\n",
              "      <td>57715.000000</td>\n",
              "      <td>6.282565e+07</td>\n",
              "      <td>1.345927e+06</td>\n",
              "      <td>1.000000</td>\n",
              "      <td>3.000000</td>\n",
              "      <td>101.000000</td>\n",
              "      <td>4.000000</td>\n",
              "      <td>1.000000</td>\n",
              "      <td>796.000000</td>\n",
              "      <td>1.000000</td>\n",
              "      <td>...</td>\n",
              "      <td>255.000000</td>\n",
              "      <td>255.000000</td>\n",
              "      <td>1.000000</td>\n",
              "      <td>1.000000</td>\n",
              "      <td>1.000000</td>\n",
              "      <td>1.000000</td>\n",
              "      <td>1.000000</td>\n",
              "      <td>1.000000</td>\n",
              "      <td>1.000000</td>\n",
              "      <td>1.000000</td>\n",
              "    </tr>\n",
              "  </tbody>\n",
              "</table>\n",
              "<p>8 rows × 36 columns</p>\n",
              "</div>\n",
              "      <button class=\"colab-df-convert\" onclick=\"convertToInteractive('df-84ca964b-143a-4a2e-9293-ce76e7aef2fb')\"\n",
              "              title=\"Convert this dataframe to an interactive table.\"\n",
              "              style=\"display:none;\">\n",
              "        \n",
              "  <svg xmlns=\"http://www.w3.org/2000/svg\" height=\"24px\"viewBox=\"0 0 24 24\"\n",
              "       width=\"24px\">\n",
              "    <path d=\"M0 0h24v24H0V0z\" fill=\"none\"/>\n",
              "    <path d=\"M18.56 5.44l.94 2.06.94-2.06 2.06-.94-2.06-.94-.94-2.06-.94 2.06-2.06.94zm-11 1L8.5 8.5l.94-2.06 2.06-.94-2.06-.94L8.5 2.5l-.94 2.06-2.06.94zm10 10l.94 2.06.94-2.06 2.06-.94-2.06-.94-.94-2.06-.94 2.06-2.06.94z\"/><path d=\"M17.41 7.96l-1.37-1.37c-.4-.4-.92-.59-1.43-.59-.52 0-1.04.2-1.43.59L10.3 9.45l-7.72 7.72c-.78.78-.78 2.05 0 2.83L4 21.41c.39.39.9.59 1.41.59.51 0 1.02-.2 1.41-.59l7.78-7.78 2.81-2.81c.8-.78.8-2.07 0-2.86zM5.41 20L4 18.59l7.72-7.72 1.47 1.35L5.41 20z\"/>\n",
              "  </svg>\n",
              "      </button>\n",
              "      \n",
              "  <style>\n",
              "    .colab-df-container {\n",
              "      display:flex;\n",
              "      flex-wrap:wrap;\n",
              "      gap: 12px;\n",
              "    }\n",
              "\n",
              "    .colab-df-convert {\n",
              "      background-color: #E8F0FE;\n",
              "      border: none;\n",
              "      border-radius: 50%;\n",
              "      cursor: pointer;\n",
              "      display: none;\n",
              "      fill: #1967D2;\n",
              "      height: 32px;\n",
              "      padding: 0 0 0 0;\n",
              "      width: 32px;\n",
              "    }\n",
              "\n",
              "    .colab-df-convert:hover {\n",
              "      background-color: #E2EBFA;\n",
              "      box-shadow: 0px 1px 2px rgba(60, 64, 67, 0.3), 0px 1px 3px 1px rgba(60, 64, 67, 0.15);\n",
              "      fill: #174EA6;\n",
              "    }\n",
              "\n",
              "    [theme=dark] .colab-df-convert {\n",
              "      background-color: #3B4455;\n",
              "      fill: #D2E3FC;\n",
              "    }\n",
              "\n",
              "    [theme=dark] .colab-df-convert:hover {\n",
              "      background-color: #434B5C;\n",
              "      box-shadow: 0px 1px 3px 1px rgba(0, 0, 0, 0.15);\n",
              "      filter: drop-shadow(0px 1px 2px rgba(0, 0, 0, 0.3));\n",
              "      fill: #FFFFFF;\n",
              "    }\n",
              "  </style>\n",
              "\n",
              "      <script>\n",
              "        const buttonEl =\n",
              "          document.querySelector('#df-84ca964b-143a-4a2e-9293-ce76e7aef2fb button.colab-df-convert');\n",
              "        buttonEl.style.display =\n",
              "          google.colab.kernel.accessAllowed ? 'block' : 'none';\n",
              "\n",
              "        async function convertToInteractive(key) {\n",
              "          const element = document.querySelector('#df-84ca964b-143a-4a2e-9293-ce76e7aef2fb');\n",
              "          const dataTable =\n",
              "            await google.colab.kernel.invokeFunction('convertToInteractive',\n",
              "                                                     [key], {});\n",
              "          if (!dataTable) return;\n",
              "\n",
              "          const docLinkHtml = 'Like what you see? Visit the ' +\n",
              "            '<a target=\"_blank\" href=https://colab.research.google.com/notebooks/data_table.ipynb>data table notebook</a>'\n",
              "            + ' to learn more about interactive tables.';\n",
              "          element.innerHTML = '';\n",
              "          dataTable['output_type'] = 'display_data';\n",
              "          await google.colab.output.renderOutput(dataTable, element);\n",
              "          const docLink = document.createElement('div');\n",
              "          docLink.innerHTML = docLinkHtml;\n",
              "          element.appendChild(docLink);\n",
              "        }\n",
              "      </script>\n",
              "    </div>\n",
              "  </div>\n",
              "  "
            ]
          },
          "metadata": {},
          "execution_count": 408
        }
      ],
      "source": [
        "print(\"======Statistics of Data Set ======\")\n",
        "# statistics of data set\n",
        "df.describe()\n",
        "    "
      ]
    },
    {
      "cell_type": "markdown",
      "id": "8be829bf",
      "metadata": {
        "id": "8be829bf"
      },
      "source": [
        "# Target Output field \"class\" analysis: "
      ]
    },
    {
      "cell_type": "code",
      "execution_count": null,
      "id": "8c65726c",
      "metadata": {
        "id": "8c65726c",
        "outputId": "efeffddf-8ea9-4e8f-8344-f6863cb4ebb7",
        "colab": {
          "base_uri": "https://localhost:8080/"
        }
      },
      "outputs": [
        {
          "output_type": "execute_result",
          "data": {
            "text/plain": [
              "anomaly    12833\n",
              "normal      9711\n",
              "Name: class, dtype: int64"
            ]
          },
          "metadata": {},
          "execution_count": 409
        }
      ],
      "source": [
        "df[\"class\"].value_counts()"
      ]
    },
    {
      "cell_type": "markdown",
      "id": "61880588",
      "metadata": {
        "id": "61880588"
      },
      "source": [
        "We see that there are 12833 anomaly records and 9711 normal records"
      ]
    },
    {
      "cell_type": "code",
      "execution_count": null,
      "id": "bc61b22d",
      "metadata": {
        "id": "bc61b22d",
        "outputId": "c326a182-8617-4800-cf94-71770ecff19c",
        "colab": {
          "base_uri": "https://localhost:8080/"
        }
      },
      "outputs": [
        {
          "output_type": "execute_result",
          "data": {
            "text/plain": [
              "anomaly    56.924237\n",
              "normal     43.075763\n",
              "Name: class, dtype: float64"
            ]
          },
          "metadata": {},
          "execution_count": 410
        }
      ],
      "source": [
        "df[\"class\"].value_counts() / len(df) * 100 "
      ]
    },
    {
      "cell_type": "markdown",
      "id": "e3deca3a",
      "metadata": {
        "id": "e3deca3a"
      },
      "source": [
        "When we see in percentange prespective - Only 43 % records are normal and  rest 56 % records are of type anomaly . There is anomaly deducted in the data of given data set and hence has class imbalance."
      ]
    },
    {
      "cell_type": "code",
      "execution_count": null,
      "id": "abb7a328",
      "metadata": {
        "id": "abb7a328",
        "outputId": "9a1ce3b8-52ae-4116-d1ef-fbec70077ff3",
        "colab": {
          "base_uri": "https://localhost:8080/",
          "height": 351
        }
      },
      "outputs": [
        {
          "output_type": "stream",
          "name": "stderr",
          "text": [
            "/usr/local/lib/python3.7/dist-packages/seaborn/_decorators.py:43: FutureWarning: Pass the following variable as a keyword arg: x. From version 0.12, the only valid positional argument will be `data`, and passing other arguments without an explicit keyword will result in an error or misinterpretation.\n",
            "  FutureWarning\n"
          ]
        },
        {
          "output_type": "execute_result",
          "data": {
            "text/plain": [
              "<matplotlib.axes._subplots.AxesSubplot at 0x7f6445707ed0>"
            ]
          },
          "metadata": {},
          "execution_count": 411
        },
        {
          "output_type": "display_data",
          "data": {
            "text/plain": [
              "<Figure size 432x288 with 1 Axes>"
            ],
            "image/png": "[encoded data removed]"
          },
          "metadata": {
            "needs_background": "light"
          }
        }
      ],
      "source": [
        "sns.countplot(df['class'])\n"
      ]
    },
    {
      "cell_type": "markdown",
      "id": "4ec457fd",
      "metadata": {
        "id": "4ec457fd"
      },
      "source": [
        "As seen from the plot graph amount of anomaly records are more then normal records leading to imbalance of class. "
      ]
    },
    {
      "cell_type": "markdown",
      "id": "0f313d2b",
      "metadata": {
        "id": "0f313d2b"
      },
      "source": [
        "# Co-Relation Analysis"
      ]
    },
    {
      "cell_type": "markdown",
      "id": "8a1fb4e3",
      "metadata": {
        "id": "8a1fb4e3"
      },
      "source": [
        "Strongly corelated fields - Strongly corelated fields if value of one increase \n",
        "other also increases and vice versa.\n",
        "We can ignore one of the field as it will save time in processing and also duplication of data\n",
        "Heatmap based is used to generate the correlation mapping between fields"
      ]
    },
    {
      "cell_type": "code",
      "execution_count": null,
      "id": "d7585994",
      "metadata": {
        "id": "d7585994",
        "outputId": "7769a42f-87e3-44a4-82d0-dd509799709a",
        "colab": {
          "base_uri": "https://localhost:8080/",
          "height": 1000
        }
      },
      "outputs": [
        {
          "output_type": "execute_result",
          "data": {
            "text/plain": [
              "(array([ 0.5,  1.5,  2.5,  3.5,  4.5,  5.5,  6.5,  7.5,  8.5,  9.5, 10.5,\n",
              "        11.5, 12.5, 13.5, 14.5, 15.5, 16.5, 17.5, 18.5, 19.5, 20.5, 21.5,\n",
              "        22.5, 23.5, 24.5, 25.5, 26.5, 27.5, 28.5, 29.5, 30.5, 31.5, 32.5,\n",
              "        33.5, 34.5, 35.5]), <a list of 36 Text major ticklabel objects>)"
            ]
          },
          "metadata": {},
          "execution_count": 412
        },
        {
          "output_type": "display_data",
          "data": {
            "text/plain": [
              "<Figure size 1656x1512 with 2 Axes>"
            ],
            "image/png": "[encoded data removed]"
          },
          "metadata": {
            "needs_background": "light"
          }
        }
      ],
      "source": [
        "# Using Heat map for generating the corelation map\n",
        "plt.figure(figsize=(23, 21))\n",
        "sns.heatmap(df.corr(), linewidths=.1, cmap=\"Purples\", annot=True, annot_kws={\"size\": 7})\n",
        "plt.yticks(rotation=0)"
      ]
    },
    {
      "cell_type": "markdown",
      "id": "80270d2c",
      "metadata": {
        "id": "80270d2c"
      },
      "source": [
        "Conclusion As per heatmap :- \n",
        "\n",
        "A) num_outbound_cmds - Column does not have any only one value i,e 0 , hence can be dropped .\n",
        "\n",
        "b) We can see that there are strong positive corelation between some of the field ,\n",
        "hence we can remove them and consider using either of one value. Because when value of one increase other goes in same direction.\n",
        "\n",
        "1) num_compromised, num_root - Very Strong Positive Corelation.\n",
        "\n",
        "2) num_compromised, su_attempted\n",
        "   and su_attempted, num_root - Strong Positive Corelation but not above 0.9 threshold \n",
        "   \n",
        "3) serror_rate, srv_serror_rate - Very Strong Positive Corelation.\n",
        "\n",
        "4) rerror_rate, srv_rerror_rate \n",
        "   and rerror_rate, dst_host_srv_rerror_rate - Very Strong Positive Corelation.\n",
        "\n",
        "5) dst_host_serror_rate, dst_host_srv_serror_rate - Very Strong Positive Corelation.\n",
        "\n",
        "6) dst_host_rerror_rate, dst_host_srv_rerror_rate - Very Strong Positive Corelation.\n",
        "\n",
        "7) serror_rate, dst_host_serror_rate - Very Strong Positive Corelation.\n",
        "\n",
        "8) serror_rate, dst_host_srv_serror_rate \n",
        "   and srv_serror_rate, dst_host_srv_rerror_rate - Very Strong Positive Corelation.\n",
        "\n",
        "9) srv_serror_rate, dst_host_serror_rate - Strong Positive Corelation but not above 0.9 threshold\n",
        "\n",
        "10) rerror_rate, dst_host_rerror_rate \n",
        "    and srv_serror_rate, dst_host_rerror_rate - Strong Positive Corelation but not above 0.9 threshold\n"
      ]
    },
    {
      "cell_type": "code",
      "execution_count": null,
      "id": "1d171ac4",
      "metadata": {
        "id": "1d171ac4"
      },
      "outputs": [],
      "source": [
        "# Heatmap shows that num_outbound_cmds has only one value i,e 0. Hence dropping off.\n",
        "df.drop(['num_outbound_cmds'], axis=1, inplace=True)\n"
      ]
    },
    {
      "cell_type": "code",
      "execution_count": null,
      "id": "2c305552",
      "metadata": {
        "id": "2c305552"
      },
      "outputs": [],
      "source": [
        "# Heatmap shows highly positive corelated values,\n",
        "# so we can consider one of them instead of both.\n",
        "df.drop(['num_root'], axis=1, inplace=True)\n",
        "df.drop(['srv_serror_rate'], axis=1, inplace=True)\n",
        "df.drop(['srv_rerror_rate'], axis=1, inplace=True)\n",
        "df.drop(['dst_host_srv_serror_rate'], axis=1, inplace=True)\n",
        "df.drop(['dst_host_srv_rerror_rate'], axis=1, inplace=True)\n",
        "df.drop(['dst_host_serror_rate'], axis=1, inplace=True)\n"
      ]
    },
    {
      "cell_type": "code",
      "execution_count": null,
      "id": "13fea7cc",
      "metadata": {
        "id": "13fea7cc",
        "outputId": "b52d57c4-91c5-4531-8d35-dbe3bd654864",
        "colab": {
          "base_uri": "https://localhost:8080/"
        }
      },
      "outputs": [
        {
          "output_type": "stream",
          "name": "stdout",
          "text": [
            "======Shape(Rows, Columns) of Data Set ====== (22544, 33)\n"
          ]
        }
      ],
      "source": [
        "# size of data set - rows and column count\n",
        "print(\"======Shape(Rows, Columns) of Data Set ======\", df.shape)"
      ]
    },
    {
      "cell_type": "markdown",
      "id": "b65fd916",
      "metadata": {
        "id": "b65fd916"
      },
      "source": [
        "# Data Type Analysis - Categorical data etc"
      ]
    },
    {
      "cell_type": "markdown",
      "id": "2bd82f19",
      "metadata": {
        "id": "2bd82f19"
      },
      "source": [
        "\n",
        "In this data set we have protocol_type,service, flag,class columns  which are categorical data.\n",
        "We must convert categorical data to Numeric values \n",
        "so that classifier algo's during train work with them as they require data to be in numeric form   "
      ]
    },
    {
      "cell_type": "code",
      "execution_count": null,
      "id": "ceeb4cbf",
      "metadata": {
        "id": "ceeb4cbf",
        "outputId": "2b4aff8d-50fa-433d-a69a-a1587d2ce529",
        "colab": {
          "base_uri": "https://localhost:8080/",
          "height": 300
        }
      },
      "outputs": [
        {
          "output_type": "execute_result",
          "data": {
            "text/plain": [
              "   duration protocol_type   service  flag  src_bytes  dst_bytes  land  \\\n",
              "0         0           tcp   private   REJ          0          0     0   \n",
              "1         0           tcp   private   REJ          0          0     0   \n",
              "2         2           tcp  ftp_data    SF      12983          0     0   \n",
              "3         0          icmp     eco_i    SF         20          0     0   \n",
              "4         1           tcp    telnet  RSTO          0         15     0   \n",
              "\n",
              "   wrong_fragment  hot  num_failed_logins  ...  diff_srv_rate  \\\n",
              "0               0    0                  0  ...           0.06   \n",
              "1               0    0                  0  ...           0.06   \n",
              "2               0    0                  0  ...           0.00   \n",
              "3               0    0                  0  ...           0.00   \n",
              "4               0    0                  0  ...           0.00   \n",
              "\n",
              "   srv_diff_host_rate  dst_host_count  dst_host_srv_count  \\\n",
              "0                0.00           255.0                10.0   \n",
              "1                0.00           255.0                 1.0   \n",
              "2                0.00           134.0                86.0   \n",
              "3                1.00             3.0                57.0   \n",
              "4                0.75            29.0                86.0   \n",
              "\n",
              "   dst_host_same_srv_rate  dst_host_diff_srv_rate  \\\n",
              "0                    0.04                    0.06   \n",
              "1                    0.00                    0.06   \n",
              "2                    0.61                    0.04   \n",
              "3                    1.00                    0.00   \n",
              "4                    0.31                    0.17   \n",
              "\n",
              "   dst_host_same_src_port_rate  dst_host_srv_diff_host_rate  \\\n",
              "0                         0.00                         0.00   \n",
              "1                         0.00                         0.00   \n",
              "2                         0.61                         0.02   \n",
              "3                         1.00                         0.28   \n",
              "4                         0.03                         0.02   \n",
              "\n",
              "   dst_host_rerror_rate    class  \n",
              "0                  1.00  anomaly  \n",
              "1                  1.00  anomaly  \n",
              "2                  0.00   normal  \n",
              "3                  0.00  anomaly  \n",
              "4                  0.83  anomaly  \n",
              "\n",
              "[5 rows x 33 columns]"
            ],
            "text/html": [
              "\n",
              "  <div id=\"df-2750a82d-f075-474d-8074-3249c82151bf\">\n",
              "    <div class=\"colab-df-container\">\n",
              "      <div>\n",
              "<style scoped>\n",
              "    .dataframe tbody tr th:only-of-type {\n",
              "        vertical-align: middle;\n",
              "    }\n",
              "\n",
              "    .dataframe tbody tr th {\n",
              "        vertical-align: top;\n",
              "    }\n",
              "\n",
              "    .dataframe thead th {\n",
              "        text-align: right;\n",
              "    }\n",
              "</style>\n",
              "<table border=\"1\" class=\"dataframe\">\n",
              "  <thead>\n",
              "    <tr style=\"text-align: right;\">\n",
              "      <th></th>\n",
              "      <th>duration</th>\n",
              "      <th>protocol_type</th>\n",
              "      <th>service</th>\n",
              "      <th>flag</th>\n",
              "      <th>src_bytes</th>\n",
              "      <th>dst_bytes</th>\n",
              "      <th>land</th>\n",
              "      <th>wrong_fragment</th>\n",
              "      <th>hot</th>\n",
              "      <th>num_failed_logins</th>\n",
              "      <th>...</th>\n",
              "      <th>diff_srv_rate</th>\n",
              "      <th>srv_diff_host_rate</th>\n",
              "      <th>dst_host_count</th>\n",
              "      <th>dst_host_srv_count</th>\n",
              "      <th>dst_host_same_srv_rate</th>\n",
              "      <th>dst_host_diff_srv_rate</th>\n",
              "      <th>dst_host_same_src_port_rate</th>\n",
              "      <th>dst_host_srv_diff_host_rate</th>\n",
              "      <th>dst_host_rerror_rate</th>\n",
              "      <th>class</th>\n",
              "    </tr>\n",
              "  </thead>\n",
              "  <tbody>\n",
              "    <tr>\n",
              "      <th>0</th>\n",
              "      <td>0</td>\n",
              "      <td>tcp</td>\n",
              "      <td>private</td>\n",
              "      <td>REJ</td>\n",
              "      <td>0</td>\n",
              "      <td>0</td>\n",
              "      <td>0</td>\n",
              "      <td>0</td>\n",
              "      <td>0</td>\n",
              "      <td>0</td>\n",
              "      <td>...</td>\n",
              "      <td>0.06</td>\n",
              "      <td>0.00</td>\n",
              "      <td>255.0</td>\n",
              "      <td>10.0</td>\n",
              "      <td>0.04</td>\n",
              "      <td>0.06</td>\n",
              "      <td>0.00</td>\n",
              "      <td>0.00</td>\n",
              "      <td>1.00</td>\n",
              "      <td>anomaly</td>\n",
              "    </tr>\n",
              "    <tr>\n",
              "      <th>1</th>\n",
              "      <td>0</td>\n",
              "      <td>tcp</td>\n",
              "      <td>private</td>\n",
              "      <td>REJ</td>\n",
              "      <td>0</td>\n",
              "      <td>0</td>\n",
              "      <td>0</td>\n",
              "      <td>0</td>\n",
              "      <td>0</td>\n",
              "      <td>0</td>\n",
              "      <td>...</td>\n",
              "      <td>0.06</td>\n",
              "      <td>0.00</td>\n",
              "      <td>255.0</td>\n",
              "      <td>1.0</td>\n",
              "      <td>0.00</td>\n",
              "      <td>0.06</td>\n",
              "      <td>0.00</td>\n",
              "      <td>0.00</td>\n",
              "      <td>1.00</td>\n",
              "      <td>anomaly</td>\n",
              "    </tr>\n",
              "    <tr>\n",
              "      <th>2</th>\n",
              "      <td>2</td>\n",
              "      <td>tcp</td>\n",
              "      <td>ftp_data</td>\n",
              "      <td>SF</td>\n",
              "      <td>12983</td>\n",
              "      <td>0</td>\n",
              "      <td>0</td>\n",
              "      <td>0</td>\n",
              "      <td>0</td>\n",
              "      <td>0</td>\n",
              "      <td>...</td>\n",
              "      <td>0.00</td>\n",
              "      <td>0.00</td>\n",
              "      <td>134.0</td>\n",
              "      <td>86.0</td>\n",
              "      <td>0.61</td>\n",
              "      <td>0.04</td>\n",
              "      <td>0.61</td>\n",
              "      <td>0.02</td>\n",
              "      <td>0.00</td>\n",
              "      <td>normal</td>\n",
              "    </tr>\n",
              "    <tr>\n",
              "      <th>3</th>\n",
              "      <td>0</td>\n",
              "      <td>icmp</td>\n",
              "      <td>eco_i</td>\n",
              "      <td>SF</td>\n",
              "      <td>20</td>\n",
              "      <td>0</td>\n",
              "      <td>0</td>\n",
              "      <td>0</td>\n",
              "      <td>0</td>\n",
              "      <td>0</td>\n",
              "      <td>...</td>\n",
              "      <td>0.00</td>\n",
              "      <td>1.00</td>\n",
              "      <td>3.0</td>\n",
              "      <td>57.0</td>\n",
              "      <td>1.00</td>\n",
              "      <td>0.00</td>\n",
              "      <td>1.00</td>\n",
              "      <td>0.28</td>\n",
              "      <td>0.00</td>\n",
              "      <td>anomaly</td>\n",
              "    </tr>\n",
              "    <tr>\n",
              "      <th>4</th>\n",
              "      <td>1</td>\n",
              "      <td>tcp</td>\n",
              "      <td>telnet</td>\n",
              "      <td>RSTO</td>\n",
              "      <td>0</td>\n",
              "      <td>15</td>\n",
              "      <td>0</td>\n",
              "      <td>0</td>\n",
              "      <td>0</td>\n",
              "      <td>0</td>\n",
              "      <td>...</td>\n",
              "      <td>0.00</td>\n",
              "      <td>0.75</td>\n",
              "      <td>29.0</td>\n",
              "      <td>86.0</td>\n",
              "      <td>0.31</td>\n",
              "      <td>0.17</td>\n",
              "      <td>0.03</td>\n",
              "      <td>0.02</td>\n",
              "      <td>0.83</td>\n",
              "      <td>anomaly</td>\n",
              "    </tr>\n",
              "  </tbody>\n",
              "</table>\n",
              "<p>5 rows × 33 columns</p>\n",
              "</div>\n",
              "      <button class=\"colab-df-convert\" onclick=\"convertToInteractive('df-2750a82d-f075-474d-8074-3249c82151bf')\"\n",
              "              title=\"Convert this dataframe to an interactive table.\"\n",
              "              style=\"display:none;\">\n",
              "        \n",
              "  <svg xmlns=\"http://www.w3.org/2000/svg\" height=\"24px\"viewBox=\"0 0 24 24\"\n",
              "       width=\"24px\">\n",
              "    <path d=\"M0 0h24v24H0V0z\" fill=\"none\"/>\n",
              "    <path d=\"M18.56 5.44l.94 2.06.94-2.06 2.06-.94-2.06-.94-.94-2.06-.94 2.06-2.06.94zm-11 1L8.5 8.5l.94-2.06 2.06-.94-2.06-.94L8.5 2.5l-.94 2.06-2.06.94zm10 10l.94 2.06.94-2.06 2.06-.94-2.06-.94-.94-2.06-.94 2.06-2.06.94z\"/><path d=\"M17.41 7.96l-1.37-1.37c-.4-.4-.92-.59-1.43-.59-.52 0-1.04.2-1.43.59L10.3 9.45l-7.72 7.72c-.78.78-.78 2.05 0 2.83L4 21.41c.39.39.9.59 1.41.59.51 0 1.02-.2 1.41-.59l7.78-7.78 2.81-2.81c.8-.78.8-2.07 0-2.86zM5.41 20L4 18.59l7.72-7.72 1.47 1.35L5.41 20z\"/>\n",
              "  </svg>\n",
              "      </button>\n",
              "      \n",
              "  <style>\n",
              "    .colab-df-container {\n",
              "      display:flex;\n",
              "      flex-wrap:wrap;\n",
              "      gap: 12px;\n",
              "    }\n",
              "\n",
              "    .colab-df-convert {\n",
              "      background-color: #E8F0FE;\n",
              "      border: none;\n",
              "      border-radius: 50%;\n",
              "      cursor: pointer;\n",
              "      display: none;\n",
              "      fill: #1967D2;\n",
              "      height: 32px;\n",
              "      padding: 0 0 0 0;\n",
              "      width: 32px;\n",
              "    }\n",
              "\n",
              "    .colab-df-convert:hover {\n",
              "      background-color: #E2EBFA;\n",
              "      box-shadow: 0px 1px 2px rgba(60, 64, 67, 0.3), 0px 1px 3px 1px rgba(60, 64, 67, 0.15);\n",
              "      fill: #174EA6;\n",
              "    }\n",
              "\n",
              "    [theme=dark] .colab-df-convert {\n",
              "      background-color: #3B4455;\n",
              "      fill: #D2E3FC;\n",
              "    }\n",
              "\n",
              "    [theme=dark] .colab-df-convert:hover {\n",
              "      background-color: #434B5C;\n",
              "      box-shadow: 0px 1px 3px 1px rgba(0, 0, 0, 0.15);\n",
              "      filter: drop-shadow(0px 1px 2px rgba(0, 0, 0, 0.3));\n",
              "      fill: #FFFFFF;\n",
              "    }\n",
              "  </style>\n",
              "\n",
              "      <script>\n",
              "        const buttonEl =\n",
              "          document.querySelector('#df-2750a82d-f075-474d-8074-3249c82151bf button.colab-df-convert');\n",
              "        buttonEl.style.display =\n",
              "          google.colab.kernel.accessAllowed ? 'block' : 'none';\n",
              "\n",
              "        async function convertToInteractive(key) {\n",
              "          const element = document.querySelector('#df-2750a82d-f075-474d-8074-3249c82151bf');\n",
              "          const dataTable =\n",
              "            await google.colab.kernel.invokeFunction('convertToInteractive',\n",
              "                                                     [key], {});\n",
              "          if (!dataTable) return;\n",
              "\n",
              "          const docLinkHtml = 'Like what you see? Visit the ' +\n",
              "            '<a target=\"_blank\" href=https://colab.research.google.com/notebooks/data_table.ipynb>data table notebook</a>'\n",
              "            + ' to learn more about interactive tables.';\n",
              "          element.innerHTML = '';\n",
              "          dataTable['output_type'] = 'display_data';\n",
              "          await google.colab.output.renderOutput(dataTable, element);\n",
              "          const docLink = document.createElement('div');\n",
              "          docLink.innerHTML = docLinkHtml;\n",
              "          element.appendChild(docLink);\n",
              "        }\n",
              "      </script>\n",
              "    </div>\n",
              "  </div>\n",
              "  "
            ]
          },
          "metadata": {},
          "execution_count": 416
        }
      ],
      "source": [
        "df.head(5)"
      ]
    },
    {
      "cell_type": "code",
      "execution_count": null,
      "id": "dcf0d249",
      "metadata": {
        "id": "dcf0d249"
      },
      "outputs": [],
      "source": [
        "# Using LabelEncoder to convert the categorical data into numerical data \n",
        "cols = ['protocol_type', 'service', 'flag', 'class']\n",
        "df[cols] = df[cols].apply(LabelEncoder().fit_transform)\n"
      ]
    },
    {
      "cell_type": "code",
      "execution_count": null,
      "id": "94db2b70",
      "metadata": {
        "id": "94db2b70",
        "outputId": "aa631a8a-9a34-454e-e365-8c9d54aa0094",
        "colab": {
          "base_uri": "https://localhost:8080/",
          "height": 300
        }
      },
      "outputs": [
        {
          "output_type": "execute_result",
          "data": {
            "text/plain": [
              "   duration  protocol_type  service  flag  src_bytes  dst_bytes  land  \\\n",
              "0         0              1       45     1          0          0     0   \n",
              "1         0              1       45     1          0          0     0   \n",
              "2         2              1       19     9      12983          0     0   \n",
              "3         0              0       13     9         20          0     0   \n",
              "4         1              1       55     2          0         15     0   \n",
              "\n",
              "   wrong_fragment  hot  num_failed_logins  ...  diff_srv_rate  \\\n",
              "0               0    0                  0  ...           0.06   \n",
              "1               0    0                  0  ...           0.06   \n",
              "2               0    0                  0  ...           0.00   \n",
              "3               0    0                  0  ...           0.00   \n",
              "4               0    0                  0  ...           0.00   \n",
              "\n",
              "   srv_diff_host_rate  dst_host_count  dst_host_srv_count  \\\n",
              "0                0.00           255.0                10.0   \n",
              "1                0.00           255.0                 1.0   \n",
              "2                0.00           134.0                86.0   \n",
              "3                1.00             3.0                57.0   \n",
              "4                0.75            29.0                86.0   \n",
              "\n",
              "   dst_host_same_srv_rate  dst_host_diff_srv_rate  \\\n",
              "0                    0.04                    0.06   \n",
              "1                    0.00                    0.06   \n",
              "2                    0.61                    0.04   \n",
              "3                    1.00                    0.00   \n",
              "4                    0.31                    0.17   \n",
              "\n",
              "   dst_host_same_src_port_rate  dst_host_srv_diff_host_rate  \\\n",
              "0                         0.00                         0.00   \n",
              "1                         0.00                         0.00   \n",
              "2                         0.61                         0.02   \n",
              "3                         1.00                         0.28   \n",
              "4                         0.03                         0.02   \n",
              "\n",
              "   dst_host_rerror_rate  class  \n",
              "0                  1.00      0  \n",
              "1                  1.00      0  \n",
              "2                  0.00      1  \n",
              "3                  0.00      0  \n",
              "4                  0.83      0  \n",
              "\n",
              "[5 rows x 33 columns]"
            ],
            "text/html": [
              "\n",
              "  <div id=\"df-9a7600e1-6e12-4379-9a2f-df67463e82cc\">\n",
              "    <div class=\"colab-df-container\">\n",
              "      <div>\n",
              "<style scoped>\n",
              "    .dataframe tbody tr th:only-of-type {\n",
              "        vertical-align: middle;\n",
              "    }\n",
              "\n",
              "    .dataframe tbody tr th {\n",
              "        vertical-align: top;\n",
              "    }\n",
              "\n",
              "    .dataframe thead th {\n",
              "        text-align: right;\n",
              "    }\n",
              "</style>\n",
              "<table border=\"1\" class=\"dataframe\">\n",
              "  <thead>\n",
              "    <tr style=\"text-align: right;\">\n",
              "      <th></th>\n",
              "      <th>duration</th>\n",
              "      <th>protocol_type</th>\n",
              "      <th>service</th>\n",
              "      <th>flag</th>\n",
              "      <th>src_bytes</th>\n",
              "      <th>dst_bytes</th>\n",
              "      <th>land</th>\n",
              "      <th>wrong_fragment</th>\n",
              "      <th>hot</th>\n",
              "      <th>num_failed_logins</th>\n",
              "      <th>...</th>\n",
              "      <th>diff_srv_rate</th>\n",
              "      <th>srv_diff_host_rate</th>\n",
              "      <th>dst_host_count</th>\n",
              "      <th>dst_host_srv_count</th>\n",
              "      <th>dst_host_same_srv_rate</th>\n",
              "      <th>dst_host_diff_srv_rate</th>\n",
              "      <th>dst_host_same_src_port_rate</th>\n",
              "      <th>dst_host_srv_diff_host_rate</th>\n",
              "      <th>dst_host_rerror_rate</th>\n",
              "      <th>class</th>\n",
              "    </tr>\n",
              "  </thead>\n",
              "  <tbody>\n",
              "    <tr>\n",
              "      <th>0</th>\n",
              "      <td>0</td>\n",
              "      <td>1</td>\n",
              "      <td>45</td>\n",
              "      <td>1</td>\n",
              "      <td>0</td>\n",
              "      <td>0</td>\n",
              "      <td>0</td>\n",
              "      <td>0</td>\n",
              "      <td>0</td>\n",
              "      <td>0</td>\n",
              "      <td>...</td>\n",
              "      <td>0.06</td>\n",
              "      <td>0.00</td>\n",
              "      <td>255.0</td>\n",
              "      <td>10.0</td>\n",
              "      <td>0.04</td>\n",
              "      <td>0.06</td>\n",
              "      <td>0.00</td>\n",
              "      <td>0.00</td>\n",
              "      <td>1.00</td>\n",
              "      <td>0</td>\n",
              "    </tr>\n",
              "    <tr>\n",
              "      <th>1</th>\n",
              "      <td>0</td>\n",
              "      <td>1</td>\n",
              "      <td>45</td>\n",
              "      <td>1</td>\n",
              "      <td>0</td>\n",
              "      <td>0</td>\n",
              "      <td>0</td>\n",
              "      <td>0</td>\n",
              "      <td>0</td>\n",
              "      <td>0</td>\n",
              "      <td>...</td>\n",
              "      <td>0.06</td>\n",
              "      <td>0.00</td>\n",
              "      <td>255.0</td>\n",
              "      <td>1.0</td>\n",
              "      <td>0.00</td>\n",
              "      <td>0.06</td>\n",
              "      <td>0.00</td>\n",
              "      <td>0.00</td>\n",
              "      <td>1.00</td>\n",
              "      <td>0</td>\n",
              "    </tr>\n",
              "    <tr>\n",
              "      <th>2</th>\n",
              "      <td>2</td>\n",
              "      <td>1</td>\n",
              "      <td>19</td>\n",
              "      <td>9</td>\n",
              "      <td>12983</td>\n",
              "      <td>0</td>\n",
              "      <td>0</td>\n",
              "      <td>0</td>\n",
              "      <td>0</td>\n",
              "      <td>0</td>\n",
              "      <td>...</td>\n",
              "      <td>0.00</td>\n",
              "      <td>0.00</td>\n",
              "      <td>134.0</td>\n",
              "      <td>86.0</td>\n",
              "      <td>0.61</td>\n",
              "      <td>0.04</td>\n",
              "      <td>0.61</td>\n",
              "      <td>0.02</td>\n",
              "      <td>0.00</td>\n",
              "      <td>1</td>\n",
              "    </tr>\n",
              "    <tr>\n",
              "      <th>3</th>\n",
              "      <td>0</td>\n",
              "      <td>0</td>\n",
              "      <td>13</td>\n",
              "      <td>9</td>\n",
              "      <td>20</td>\n",
              "      <td>0</td>\n",
              "      <td>0</td>\n",
              "      <td>0</td>\n",
              "      <td>0</td>\n",
              "      <td>0</td>\n",
              "      <td>...</td>\n",
              "      <td>0.00</td>\n",
              "      <td>1.00</td>\n",
              "      <td>3.0</td>\n",
              "      <td>57.0</td>\n",
              "      <td>1.00</td>\n",
              "      <td>0.00</td>\n",
              "      <td>1.00</td>\n",
              "      <td>0.28</td>\n",
              "      <td>0.00</td>\n",
              "      <td>0</td>\n",
              "    </tr>\n",
              "    <tr>\n",
              "      <th>4</th>\n",
              "      <td>1</td>\n",
              "      <td>1</td>\n",
              "      <td>55</td>\n",
              "      <td>2</td>\n",
              "      <td>0</td>\n",
              "      <td>15</td>\n",
              "      <td>0</td>\n",
              "      <td>0</td>\n",
              "      <td>0</td>\n",
              "      <td>0</td>\n",
              "      <td>...</td>\n",
              "      <td>0.00</td>\n",
              "      <td>0.75</td>\n",
              "      <td>29.0</td>\n",
              "      <td>86.0</td>\n",
              "      <td>0.31</td>\n",
              "      <td>0.17</td>\n",
              "      <td>0.03</td>\n",
              "      <td>0.02</td>\n",
              "      <td>0.83</td>\n",
              "      <td>0</td>\n",
              "    </tr>\n",
              "  </tbody>\n",
              "</table>\n",
              "<p>5 rows × 33 columns</p>\n",
              "</div>\n",
              "      <button class=\"colab-df-convert\" onclick=\"convertToInteractive('df-9a7600e1-6e12-4379-9a2f-df67463e82cc')\"\n",
              "              title=\"Convert this dataframe to an interactive table.\"\n",
              "              style=\"display:none;\">\n",
              "        \n",
              "  <svg xmlns=\"http://www.w3.org/2000/svg\" height=\"24px\"viewBox=\"0 0 24 24\"\n",
              "       width=\"24px\">\n",
              "    <path d=\"M0 0h24v24H0V0z\" fill=\"none\"/>\n",
              "    <path d=\"M18.56 5.44l.94 2.06.94-2.06 2.06-.94-2.06-.94-.94-2.06-.94 2.06-2.06.94zm-11 1L8.5 8.5l.94-2.06 2.06-.94-2.06-.94L8.5 2.5l-.94 2.06-2.06.94zm10 10l.94 2.06.94-2.06 2.06-.94-2.06-.94-.94-2.06-.94 2.06-2.06.94z\"/><path d=\"M17.41 7.96l-1.37-1.37c-.4-.4-.92-.59-1.43-.59-.52 0-1.04.2-1.43.59L10.3 9.45l-7.72 7.72c-.78.78-.78 2.05 0 2.83L4 21.41c.39.39.9.59 1.41.59.51 0 1.02-.2 1.41-.59l7.78-7.78 2.81-2.81c.8-.78.8-2.07 0-2.86zM5.41 20L4 18.59l7.72-7.72 1.47 1.35L5.41 20z\"/>\n",
              "  </svg>\n",
              "      </button>\n",
              "      \n",
              "  <style>\n",
              "    .colab-df-container {\n",
              "      display:flex;\n",
              "      flex-wrap:wrap;\n",
              "      gap: 12px;\n",
              "    }\n",
              "\n",
              "    .colab-df-convert {\n",
              "      background-color: #E8F0FE;\n",
              "      border: none;\n",
              "      border-radius: 50%;\n",
              "      cursor: pointer;\n",
              "      display: none;\n",
              "      fill: #1967D2;\n",
              "      height: 32px;\n",
              "      padding: 0 0 0 0;\n",
              "      width: 32px;\n",
              "    }\n",
              "\n",
              "    .colab-df-convert:hover {\n",
              "      background-color: #E2EBFA;\n",
              "      box-shadow: 0px 1px 2px rgba(60, 64, 67, 0.3), 0px 1px 3px 1px rgba(60, 64, 67, 0.15);\n",
              "      fill: #174EA6;\n",
              "    }\n",
              "\n",
              "    [theme=dark] .colab-df-convert {\n",
              "      background-color: #3B4455;\n",
              "      fill: #D2E3FC;\n",
              "    }\n",
              "\n",
              "    [theme=dark] .colab-df-convert:hover {\n",
              "      background-color: #434B5C;\n",
              "      box-shadow: 0px 1px 3px 1px rgba(0, 0, 0, 0.15);\n",
              "      filter: drop-shadow(0px 1px 2px rgba(0, 0, 0, 0.3));\n",
              "      fill: #FFFFFF;\n",
              "    }\n",
              "  </style>\n",
              "\n",
              "      <script>\n",
              "        const buttonEl =\n",
              "          document.querySelector('#df-9a7600e1-6e12-4379-9a2f-df67463e82cc button.colab-df-convert');\n",
              "        buttonEl.style.display =\n",
              "          google.colab.kernel.accessAllowed ? 'block' : 'none';\n",
              "\n",
              "        async function convertToInteractive(key) {\n",
              "          const element = document.querySelector('#df-9a7600e1-6e12-4379-9a2f-df67463e82cc');\n",
              "          const dataTable =\n",
              "            await google.colab.kernel.invokeFunction('convertToInteractive',\n",
              "                                                     [key], {});\n",
              "          if (!dataTable) return;\n",
              "\n",
              "          const docLinkHtml = 'Like what you see? Visit the ' +\n",
              "            '<a target=\"_blank\" href=https://colab.research.google.com/notebooks/data_table.ipynb>data table notebook</a>'\n",
              "            + ' to learn more about interactive tables.';\n",
              "          element.innerHTML = '';\n",
              "          dataTable['output_type'] = 'display_data';\n",
              "          await google.colab.output.renderOutput(dataTable, element);\n",
              "          const docLink = document.createElement('div');\n",
              "          docLink.innerHTML = docLinkHtml;\n",
              "          element.appendChild(docLink);\n",
              "        }\n",
              "      </script>\n",
              "    </div>\n",
              "  </div>\n",
              "  "
            ]
          },
          "metadata": {},
          "execution_count": 418
        }
      ],
      "source": [
        "df.head(5)\n"
      ]
    },
    {
      "cell_type": "markdown",
      "id": "8ab6c86c",
      "metadata": {
        "id": "8ab6c86c"
      },
      "source": [
        "# Pre Processing and cleaning"
      ]
    },
    {
      "cell_type": "markdown",
      "id": "67922730",
      "metadata": {
        "id": "67922730"
      },
      "source": [
        "Checking for Null or NA data . If there are large number of values  like in thousands then remove column \n",
        "or if only few rows are with na then drop those values.\n",
        "\n"
      ]
    },
    {
      "cell_type": "code",
      "execution_count": null,
      "id": "c3907e5d",
      "metadata": {
        "id": "c3907e5d",
        "outputId": "b64571c9-28fa-4a5d-ec62-9facd1ad7c3e",
        "colab": {
          "base_uri": "https://localhost:8080/"
        }
      },
      "outputs": [
        {
          "output_type": "execute_result",
          "data": {
            "text/plain": [
              "duration                        0\n",
              "protocol_type                   0\n",
              "service                         0\n",
              "flag                            0\n",
              "src_bytes                       0\n",
              "dst_bytes                       0\n",
              "land                            0\n",
              "wrong_fragment                  0\n",
              "hot                             0\n",
              "num_failed_logins               0\n",
              "logged_in                       0\n",
              "num_compromised                 0\n",
              "root_shell                      0\n",
              "su_attempted                    0\n",
              "num_file_creations              0\n",
              "num_shells                      0\n",
              "num_access_files                0\n",
              "is_guest_login                  0\n",
              "count                           0\n",
              "srv_count                       0\n",
              "serror_rate                     0\n",
              "rerror_rate                     0\n",
              "same_srv_rate                   0\n",
              "diff_srv_rate                   0\n",
              "srv_diff_host_rate              0\n",
              "dst_host_count                 13\n",
              "dst_host_srv_count             12\n",
              "dst_host_same_srv_rate          0\n",
              "dst_host_diff_srv_rate          0\n",
              "dst_host_same_src_port_rate     0\n",
              "dst_host_srv_diff_host_rate     0\n",
              "dst_host_rerror_rate            0\n",
              "class                           0\n",
              "dtype: int64"
            ]
          },
          "metadata": {},
          "execution_count": 419
        }
      ],
      "source": [
        "df.isna().sum()"
      ]
    },
    {
      "cell_type": "markdown",
      "id": "d3d33301",
      "metadata": {
        "id": "d3d33301"
      },
      "source": [
        "It can be seen from output above that dst_host_count has 13 and dst_host_srv_count = 12 values . Hence removing those values"
      ]
    },
    {
      "cell_type": "code",
      "execution_count": null,
      "id": "72d1f5d0",
      "metadata": {
        "id": "72d1f5d0"
      },
      "outputs": [],
      "source": [
        "df=df.dropna()"
      ]
    },
    {
      "cell_type": "code",
      "execution_count": null,
      "id": "042737dc",
      "metadata": {
        "id": "042737dc",
        "outputId": "a315975a-0bd9-4af5-fde9-2f46feb6235c",
        "colab": {
          "base_uri": "https://localhost:8080/"
        }
      },
      "outputs": [
        {
          "output_type": "execute_result",
          "data": {
            "text/plain": [
              "duration                       0\n",
              "protocol_type                  0\n",
              "service                        0\n",
              "flag                           0\n",
              "src_bytes                      0\n",
              "dst_bytes                      0\n",
              "land                           0\n",
              "wrong_fragment                 0\n",
              "hot                            0\n",
              "num_failed_logins              0\n",
              "logged_in                      0\n",
              "num_compromised                0\n",
              "root_shell                     0\n",
              "su_attempted                   0\n",
              "num_file_creations             0\n",
              "num_shells                     0\n",
              "num_access_files               0\n",
              "is_guest_login                 0\n",
              "count                          0\n",
              "srv_count                      0\n",
              "serror_rate                    0\n",
              "rerror_rate                    0\n",
              "same_srv_rate                  0\n",
              "diff_srv_rate                  0\n",
              "srv_diff_host_rate             0\n",
              "dst_host_count                 0\n",
              "dst_host_srv_count             0\n",
              "dst_host_same_srv_rate         0\n",
              "dst_host_diff_srv_rate         0\n",
              "dst_host_same_src_port_rate    0\n",
              "dst_host_srv_diff_host_rate    0\n",
              "dst_host_rerror_rate           0\n",
              "class                          0\n",
              "dtype: int64"
            ]
          },
          "metadata": {},
          "execution_count": 421
        }
      ],
      "source": [
        "# Verify if there are dropped.\n",
        "df.isna().sum()"
      ]
    },
    {
      "cell_type": "markdown",
      "id": "826bf324",
      "metadata": {
        "id": "826bf324"
      },
      "source": [
        "# Outlier Analysis "
      ]
    },
    {
      "cell_type": "code",
      "execution_count": null,
      "id": "8065bd41",
      "metadata": {
        "id": "8065bd41"
      },
      "outputs": [],
      "source": [
        "def show_outliers(df):\n",
        "    # boxplot will show the outliers in Q1 , Q3 , IQR and outliers\n",
        "    plt.figure(figsize=(40,25))\n",
        "    sns.boxplot(data=df, width=0.22)\n"
      ]
    },
    {
      "cell_type": "code",
      "execution_count": null,
      "id": "f807db10",
      "metadata": {
        "id": "f807db10",
        "outputId": "5c7384ad-97ea-4c0e-b045-0f31908fbf4c",
        "colab": {
          "base_uri": "https://localhost:8080/"
        }
      },
      "outputs": [
        {
          "output_type": "display_data",
          "data": {
            "text/plain": [
              "<Figure size 2880x1800 with 1 Axes>"
            ],
            "image/png": "[encoded data removed]"
          },
          "metadata": {
            "needs_background": "light"
          }
        }
      ],
      "source": [
        "# show the outliers and then decide and remove them\n",
        "show_outliers(df)\n",
        "\n",
        "# Double click to zoom in if needed"
      ]
    },
    {
      "cell_type": "markdown",
      "id": "e9aab2ac",
      "metadata": {
        "id": "e9aab2ac"
      },
      "source": [
        "We can see that src_bytes column has multiple outliers and this column can be further shown using box plot "
      ]
    },
    {
      "cell_type": "code",
      "execution_count": null,
      "id": "41e7e718",
      "metadata": {
        "id": "41e7e718",
        "outputId": "639555f8-e155-4e34-d8d8-506f8a618027",
        "colab": {
          "base_uri": "https://localhost:8080/"
        }
      },
      "outputs": [
        {
          "output_type": "execute_result",
          "data": {
            "text/plain": [
              "<matplotlib.axes._subplots.AxesSubplot at 0x7f644488ea10>"
            ]
          },
          "metadata": {},
          "execution_count": 424
        },
        {
          "output_type": "display_data",
          "data": {
            "text/plain": [
              "<Figure size 432x288 with 1 Axes>"
            ],
            "image/png": "[encoded data removed]"
          },
          "metadata": {
            "needs_background": "light"
          }
        }
      ],
      "source": [
        "# As above seen src_bytes has outliers hence , lets see closer look at src_bytes column\n",
        "sns.boxplot(x=df['src_bytes'])\n"
      ]
    },
    {
      "cell_type": "markdown",
      "source": [
        "Identify those outlier and remove them"
      ],
      "metadata": {
        "id": "P0Na78xlYAXx"
      },
      "id": "P0Na78xlYAXx"
    },
    {
      "cell_type": "code",
      "execution_count": null,
      "id": "78c34e24",
      "metadata": {
        "id": "78c34e24"
      },
      "outputs": [],
      "source": [
        "# Identify those outlier and remove them\n",
        "def identify_outliers(data, featureName):\n",
        "    mean = np.mean(data[featureName])\n",
        "    stddev = np.std(data[featureName])\n",
        "    indices = []\n",
        "    for index, value in data[featureName].iteritems():\n",
        "        z_score = (value - mean) / stddev\n",
        "        if abs(z_score) > 3:\n",
        "            indices.append(index)\n",
        "    return indices\n"
      ]
    },
    {
      "cell_type": "code",
      "execution_count": null,
      "id": "8fc9be8a",
      "metadata": {
        "id": "8fc9be8a",
        "outputId": "71f251e2-3d90-4725-943c-0feea40bb828",
        "colab": {
          "base_uri": "https://localhost:8080/"
        }
      },
      "outputs": [
        {
          "output_type": "stream",
          "name": "stdout",
          "text": [
            "[1993, 5531, 19055, 19309, 21810, 22454]\n",
            "Total outliers removed are 6\n"
          ]
        }
      ],
      "source": [
        "src_bytes_outliers = identify_outliers(df, 'src_bytes')\n",
        "df.drop(src_bytes_outliers, inplace=True)\n",
        "print(src_bytes_outliers)\n",
        "print('Total outliers removed are {}'.format(len(src_bytes_outliers)))"
      ]
    },
    {
      "cell_type": "markdown",
      "source": [],
      "metadata": {
        "id": "0614xw6hY_Wu"
      },
      "id": "0614xw6hY_Wu"
    },
    {
      "cell_type": "markdown",
      "id": "6a38a14d",
      "metadata": {
        "id": "6a38a14d"
      },
      "source": [
        "# Normalization"
      ]
    },
    {
      "cell_type": "markdown",
      "id": "9638239f",
      "metadata": {
        "id": "9638239f"
      },
      "source": [
        "Normalization of the data scales each input variable separately to the range 0-1, which is the range for floating-point values where we have the most precision."
      ]
    },
    {
      "cell_type": "markdown",
      "source": [
        "Also another Reason for Normalisation was when we ran the models with and without normalisation of data there was 4 - 5 % changes in accuracy , prediction values of models . Models where performing better after Normalization of data ."
      ],
      "metadata": {
        "id": "M1WBLD3DneTH"
      },
      "id": "M1WBLD3DneTH"
    },
    {
      "cell_type": "code",
      "source": [
        "# For Better Precision before normalising the data we will convert the data into float\n",
        "\n",
        "df = df.astype(float)\n",
        "\n",
        "# As per analysis , these are the columns which are not in scale of 0-1 and are in different scale.\n",
        "# Hence need to normalise the column values so that we achieve better predict score with most precision.\n",
        "cols = [\n",
        "    \"duration\",\"protocol_type\", \"service\", \"flag\", \"src_bytes\",\n",
        "    \"dst_bytes\",\"wrong_fragment\",\"hot\",\"num_failed_logins\",\n",
        "    \"num_compromised\",\"su_attempted\",\n",
        "    \"num_file_creations\",\"num_shells\",\"num_access_files\",\"count\",\"srv_count\",\n",
        "    \"dst_host_count\",\"dst_host_srv_count\"\n",
        "]\n",
        "\n",
        "scaler = MinMaxScaler()\n",
        "# transform data\n",
        "df[cols] = scaler.fit_transform(df[cols])\n",
        "\n"
      ],
      "metadata": {
        "id": "3IhUIM1SgHvX"
      },
      "id": "3IhUIM1SgHvX",
      "execution_count": null,
      "outputs": []
    },
    {
      "cell_type": "code",
      "execution_count": null,
      "id": "b8cf88eb",
      "metadata": {
        "id": "b8cf88eb",
        "outputId": "a2aa9f8b-2529-4e81-aad8-624b9fdb6cb4",
        "colab": {
          "base_uri": "https://localhost:8080/"
        }
      },
      "outputs": [
        {
          "output_type": "execute_result",
          "data": {
            "text/plain": [
              "   duration  protocol_type   service  flag  src_bytes  dst_bytes  land  \\\n",
              "0  0.000000            0.5  0.714286   0.1   0.000000   0.000000   0.0   \n",
              "1  0.000000            0.5  0.714286   0.1   0.000000   0.000000   0.0   \n",
              "2  0.000035            0.5  0.301587   0.9   0.010281   0.000000   0.0   \n",
              "3  0.000000            0.0  0.206349   0.9   0.000016   0.000000   0.0   \n",
              "4  0.000017            0.5  0.873016   0.2   0.000000   0.000011   0.0   \n",
              "\n",
              "   wrong_fragment  hot  num_failed_logins  ...  diff_srv_rate  \\\n",
              "0             0.0  0.0                0.0  ...           0.06   \n",
              "1             0.0  0.0                0.0  ...           0.06   \n",
              "2             0.0  0.0                0.0  ...           0.00   \n",
              "3             0.0  0.0                0.0  ...           0.00   \n",
              "4             0.0  0.0                0.0  ...           0.00   \n",
              "\n",
              "   srv_diff_host_rate  dst_host_count  dst_host_srv_count  \\\n",
              "0                0.00        1.000000            0.039216   \n",
              "1                0.00        1.000000            0.003922   \n",
              "2                0.00        0.525490            0.337255   \n",
              "3                1.00        0.011765            0.223529   \n",
              "4                0.75        0.113725            0.337255   \n",
              "\n",
              "   dst_host_same_srv_rate  dst_host_diff_srv_rate  \\\n",
              "0                    0.04                    0.06   \n",
              "1                    0.00                    0.06   \n",
              "2                    0.61                    0.04   \n",
              "3                    1.00                    0.00   \n",
              "4                    0.31                    0.17   \n",
              "\n",
              "   dst_host_same_src_port_rate  dst_host_srv_diff_host_rate  \\\n",
              "0                         0.00                         0.00   \n",
              "1                         0.00                         0.00   \n",
              "2                         0.61                         0.02   \n",
              "3                         1.00                         0.28   \n",
              "4                         0.03                         0.02   \n",
              "\n",
              "   dst_host_rerror_rate  class  \n",
              "0                  1.00    0.0  \n",
              "1                  1.00    0.0  \n",
              "2                  0.00    1.0  \n",
              "3                  0.00    0.0  \n",
              "4                  0.83    0.0  \n",
              "\n",
              "[5 rows x 33 columns]"
            ],
            "text/html": [
              "\n",
              "  <div id=\"df-a18af159-ee45-4075-b52e-8733785d19cb\">\n",
              "    <div class=\"colab-df-container\">\n",
              "      <div>\n",
              "<style scoped>\n",
              "    .dataframe tbody tr th:only-of-type {\n",
              "        vertical-align: middle;\n",
              "    }\n",
              "\n",
              "    .dataframe tbody tr th {\n",
              "        vertical-align: top;\n",
              "    }\n",
              "\n",
              "    .dataframe thead th {\n",
              "        text-align: right;\n",
              "    }\n",
              "</style>\n",
              "<table border=\"1\" class=\"dataframe\">\n",
              "  <thead>\n",
              "    <tr style=\"text-align: right;\">\n",
              "      <th></th>\n",
              "      <th>duration</th>\n",
              "      <th>protocol_type</th>\n",
              "      <th>service</th>\n",
              "      <th>flag</th>\n",
              "      <th>src_bytes</th>\n",
              "      <th>dst_bytes</th>\n",
              "      <th>land</th>\n",
              "      <th>wrong_fragment</th>\n",
              "      <th>hot</th>\n",
              "      <th>num_failed_logins</th>\n",
              "      <th>...</th>\n",
              "      <th>diff_srv_rate</th>\n",
              "      <th>srv_diff_host_rate</th>\n",
              "      <th>dst_host_count</th>\n",
              "      <th>dst_host_srv_count</th>\n",
              "      <th>dst_host_same_srv_rate</th>\n",
              "      <th>dst_host_diff_srv_rate</th>\n",
              "      <th>dst_host_same_src_port_rate</th>\n",
              "      <th>dst_host_srv_diff_host_rate</th>\n",
              "      <th>dst_host_rerror_rate</th>\n",
              "      <th>class</th>\n",
              "    </tr>\n",
              "  </thead>\n",
              "  <tbody>\n",
              "    <tr>\n",
              "      <th>0</th>\n",
              "      <td>0.000000</td>\n",
              "      <td>0.5</td>\n",
              "      <td>0.714286</td>\n",
              "      <td>0.1</td>\n",
              "      <td>0.000000</td>\n",
              "      <td>0.000000</td>\n",
              "      <td>0.0</td>\n",
              "      <td>0.0</td>\n",
              "      <td>0.0</td>\n",
              "      <td>0.0</td>\n",
              "      <td>...</td>\n",
              "      <td>0.06</td>\n",
              "      <td>0.00</td>\n",
              "      <td>1.000000</td>\n",
              "      <td>0.039216</td>\n",
              "      <td>0.04</td>\n",
              "      <td>0.06</td>\n",
              "      <td>0.00</td>\n",
              "      <td>0.00</td>\n",
              "      <td>1.00</td>\n",
              "      <td>0.0</td>\n",
              "    </tr>\n",
              "    <tr>\n",
              "      <th>1</th>\n",
              "      <td>0.000000</td>\n",
              "      <td>0.5</td>\n",
              "      <td>0.714286</td>\n",
              "      <td>0.1</td>\n",
              "      <td>0.000000</td>\n",
              "      <td>0.000000</td>\n",
              "      <td>0.0</td>\n",
              "      <td>0.0</td>\n",
              "      <td>0.0</td>\n",
              "      <td>0.0</td>\n",
              "      <td>...</td>\n",
              "      <td>0.06</td>\n",
              "      <td>0.00</td>\n",
              "      <td>1.000000</td>\n",
              "      <td>0.003922</td>\n",
              "      <td>0.00</td>\n",
              "      <td>0.06</td>\n",
              "      <td>0.00</td>\n",
              "      <td>0.00</td>\n",
              "      <td>1.00</td>\n",
              "      <td>0.0</td>\n",
              "    </tr>\n",
              "    <tr>\n",
              "      <th>2</th>\n",
              "      <td>0.000035</td>\n",
              "      <td>0.5</td>\n",
              "      <td>0.301587</td>\n",
              "      <td>0.9</td>\n",
              "      <td>0.010281</td>\n",
              "      <td>0.000000</td>\n",
              "      <td>0.0</td>\n",
              "      <td>0.0</td>\n",
              "      <td>0.0</td>\n",
              "      <td>0.0</td>\n",
              "      <td>...</td>\n",
              "      <td>0.00</td>\n",
              "      <td>0.00</td>\n",
              "      <td>0.525490</td>\n",
              "      <td>0.337255</td>\n",
              "      <td>0.61</td>\n",
              "      <td>0.04</td>\n",
              "      <td>0.61</td>\n",
              "      <td>0.02</td>\n",
              "      <td>0.00</td>\n",
              "      <td>1.0</td>\n",
              "    </tr>\n",
              "    <tr>\n",
              "      <th>3</th>\n",
              "      <td>0.000000</td>\n",
              "      <td>0.0</td>\n",
              "      <td>0.206349</td>\n",
              "      <td>0.9</td>\n",
              "      <td>0.000016</td>\n",
              "      <td>0.000000</td>\n",
              "      <td>0.0</td>\n",
              "      <td>0.0</td>\n",
              "      <td>0.0</td>\n",
              "      <td>0.0</td>\n",
              "      <td>...</td>\n",
              "      <td>0.00</td>\n",
              "      <td>1.00</td>\n",
              "      <td>0.011765</td>\n",
              "      <td>0.223529</td>\n",
              "      <td>1.00</td>\n",
              "      <td>0.00</td>\n",
              "      <td>1.00</td>\n",
              "      <td>0.28</td>\n",
              "      <td>0.00</td>\n",
              "      <td>0.0</td>\n",
              "    </tr>\n",
              "    <tr>\n",
              "      <th>4</th>\n",
              "      <td>0.000017</td>\n",
              "      <td>0.5</td>\n",
              "      <td>0.873016</td>\n",
              "      <td>0.2</td>\n",
              "      <td>0.000000</td>\n",
              "      <td>0.000011</td>\n",
              "      <td>0.0</td>\n",
              "      <td>0.0</td>\n",
              "      <td>0.0</td>\n",
              "      <td>0.0</td>\n",
              "      <td>...</td>\n",
              "      <td>0.00</td>\n",
              "      <td>0.75</td>\n",
              "      <td>0.113725</td>\n",
              "      <td>0.337255</td>\n",
              "      <td>0.31</td>\n",
              "      <td>0.17</td>\n",
              "      <td>0.03</td>\n",
              "      <td>0.02</td>\n",
              "      <td>0.83</td>\n",
              "      <td>0.0</td>\n",
              "    </tr>\n",
              "  </tbody>\n",
              "</table>\n",
              "<p>5 rows × 33 columns</p>\n",
              "</div>\n",
              "      <button class=\"colab-df-convert\" onclick=\"convertToInteractive('df-a18af159-ee45-4075-b52e-8733785d19cb')\"\n",
              "              title=\"Convert this dataframe to an interactive table.\"\n",
              "              style=\"display:none;\">\n",
              "        \n",
              "  <svg xmlns=\"http://www.w3.org/2000/svg\" height=\"24px\"viewBox=\"0 0 24 24\"\n",
              "       width=\"24px\">\n",
              "    <path d=\"M0 0h24v24H0V0z\" fill=\"none\"/>\n",
              "    <path d=\"M18.56 5.44l.94 2.06.94-2.06 2.06-.94-2.06-.94-.94-2.06-.94 2.06-2.06.94zm-11 1L8.5 8.5l.94-2.06 2.06-.94-2.06-.94L8.5 2.5l-.94 2.06-2.06.94zm10 10l.94 2.06.94-2.06 2.06-.94-2.06-.94-.94-2.06-.94 2.06-2.06.94z\"/><path d=\"M17.41 7.96l-1.37-1.37c-.4-.4-.92-.59-1.43-.59-.52 0-1.04.2-1.43.59L10.3 9.45l-7.72 7.72c-.78.78-.78 2.05 0 2.83L4 21.41c.39.39.9.59 1.41.59.51 0 1.02-.2 1.41-.59l7.78-7.78 2.81-2.81c.8-.78.8-2.07 0-2.86zM5.41 20L4 18.59l7.72-7.72 1.47 1.35L5.41 20z\"/>\n",
              "  </svg>\n",
              "      </button>\n",
              "      \n",
              "  <style>\n",
              "    .colab-df-container {\n",
              "      display:flex;\n",
              "      flex-wrap:wrap;\n",
              "      gap: 12px;\n",
              "    }\n",
              "\n",
              "    .colab-df-convert {\n",
              "      background-color: #E8F0FE;\n",
              "      border: none;\n",
              "      border-radius: 50%;\n",
              "      cursor: pointer;\n",
              "      display: none;\n",
              "      fill: #1967D2;\n",
              "      height: 32px;\n",
              "      padding: 0 0 0 0;\n",
              "      width: 32px;\n",
              "    }\n",
              "\n",
              "    .colab-df-convert:hover {\n",
              "      background-color: #E2EBFA;\n",
              "      box-shadow: 0px 1px 2px rgba(60, 64, 67, 0.3), 0px 1px 3px 1px rgba(60, 64, 67, 0.15);\n",
              "      fill: #174EA6;\n",
              "    }\n",
              "\n",
              "    [theme=dark] .colab-df-convert {\n",
              "      background-color: #3B4455;\n",
              "      fill: #D2E3FC;\n",
              "    }\n",
              "\n",
              "    [theme=dark] .colab-df-convert:hover {\n",
              "      background-color: #434B5C;\n",
              "      box-shadow: 0px 1px 3px 1px rgba(0, 0, 0, 0.15);\n",
              "      filter: drop-shadow(0px 1px 2px rgba(0, 0, 0, 0.3));\n",
              "      fill: #FFFFFF;\n",
              "    }\n",
              "  </style>\n",
              "\n",
              "      <script>\n",
              "        const buttonEl =\n",
              "          document.querySelector('#df-a18af159-ee45-4075-b52e-8733785d19cb button.colab-df-convert');\n",
              "        buttonEl.style.display =\n",
              "          google.colab.kernel.accessAllowed ? 'block' : 'none';\n",
              "\n",
              "        async function convertToInteractive(key) {\n",
              "          const element = document.querySelector('#df-a18af159-ee45-4075-b52e-8733785d19cb');\n",
              "          const dataTable =\n",
              "            await google.colab.kernel.invokeFunction('convertToInteractive',\n",
              "                                                     [key], {});\n",
              "          if (!dataTable) return;\n",
              "\n",
              "          const docLinkHtml = 'Like what you see? Visit the ' +\n",
              "            '<a target=\"_blank\" href=https://colab.research.google.com/notebooks/data_table.ipynb>data table notebook</a>'\n",
              "            + ' to learn more about interactive tables.';\n",
              "          element.innerHTML = '';\n",
              "          dataTable['output_type'] = 'display_data';\n",
              "          await google.colab.output.renderOutput(dataTable, element);\n",
              "          const docLink = document.createElement('div');\n",
              "          docLink.innerHTML = docLinkHtml;\n",
              "          element.appendChild(docLink);\n",
              "        }\n",
              "      </script>\n",
              "    </div>\n",
              "  </div>\n",
              "  "
            ]
          },
          "metadata": {},
          "execution_count": 428
        }
      ],
      "source": [
        "df.head(5)"
      ]
    },
    {
      "cell_type": "markdown",
      "source": [
        "Now the values of Cols are in the range of 0-1 and are normalised throughout \n",
        "\n"
      ],
      "metadata": {
        "id": "qty8vtiugOkj"
      },
      "id": "qty8vtiugOkj"
    },
    {
      "cell_type": "markdown",
      "id": "b568456a",
      "metadata": {
        "id": "b568456a"
      },
      "source": [
        "#Model Building,Training Model , Prediction , Regularization\n"
      ]
    },
    {
      "cell_type": "markdown",
      "id": "b9bf7f06",
      "metadata": {
        "id": "b9bf7f06"
      },
      "source": [
        "Getting the X and y axis data for test data preparation"
      ]
    },
    {
      "cell_type": "code",
      "execution_count": null,
      "id": "fd167473",
      "metadata": {
        "id": "fd167473"
      },
      "outputs": [],
      "source": [
        "y = df['class']\n",
        "X = df.drop(['class'],axis=1)\n",
        "X = np.array(X)\n"
      ]
    },
    {
      "cell_type": "markdown",
      "id": "25453603",
      "metadata": {
        "id": "25453603"
      },
      "source": [
        "Case 1 : Train = 80 % Test = 20% [ x_train1,y_train1] = 80% ; [ x_test1,y_test1] = 20% ;"
      ]
    },
    {
      "cell_type": "markdown",
      "id": "93641a4b",
      "metadata": {
        "id": "93641a4b"
      },
      "source": [
        "Normal Way(using train_test_split) to split the data set into training and test is as below"
      ]
    },
    {
      "cell_type": "code",
      "execution_count": null,
      "id": "a5e4bf2f",
      "metadata": {
        "id": "a5e4bf2f"
      },
      "outputs": [],
      "source": [
        "X_train1, X_test1, y_train1, y_test1 = train_test_split(X, y, test_size=0.20, random_state = 1)"
      ]
    },
    {
      "cell_type": "markdown",
      "id": "318b2d61",
      "metadata": {
        "id": "318b2d61"
      },
      "source": [
        "Case 2 : Train = 10 % Test = 90% [ x_train2,y_train2] = 10% ; [ x_test2,y_test2] = 90%"
      ]
    },
    {
      "cell_type": "code",
      "execution_count": null,
      "id": "89ff194b",
      "metadata": {
        "id": "89ff194b"
      },
      "outputs": [],
      "source": [
        "X_train2, X_test2, y_train2, y_test2 = train_test_split(X, y, test_size=0.90, random_state = 1)"
      ]
    },
    {
      "cell_type": "markdown",
      "id": "ba2274b0",
      "metadata": {
        "id": "ba2274b0"
      },
      "source": [
        "This train_test_split method will return a tuple with two DataFrames containing the training and testing data set."
      ]
    },
    {
      "cell_type": "markdown",
      "source": [
        "## Training Model, Prediction, Regularization, Overfitting, Print Eval Params"
      ],
      "metadata": {
        "id": "dXF8oMUnhMm-"
      },
      "id": "dXF8oMUnhMm-"
    },
    {
      "cell_type": "code",
      "source": [
        "\n",
        "#Columns for regularization matrix\n",
        "r_metrics_cols = ['Fold_No', 'Model', 'Alpha', 'Accuracy', 'R2', 'MAE', 'MSE', 'RMSE']\n",
        "alpha_range = array([0, 1.e-02, 1.e-01])\n",
        "r_metrics_train = pd.DataFrame(columns=r_metrics_cols)\n",
        "r_metrics_test = pd.DataFrame(columns=r_metrics_cols)\n",
        "classifier_data={}\n",
        "\n",
        "\n",
        "# This method will predict the accuracy of model using the train and test data passed\n",
        "# Models used are : \n",
        "# 1) GaussianNB\n",
        "# 2) BernoulliNB\n",
        "# 3) MultinomialNB\n",
        "\n",
        "\n",
        "def train_model(model_type, X, y, train_index, test_index):\n",
        "    global r_metrics_train\n",
        "    global r_metrics_test\n",
        "    global classifier_data\n",
        "    global alpha_range\n",
        "\n",
        "    # Prepare Train and Test data\n",
        "    X_train, X_test = X[train_index], X[test_index]\n",
        "    y_train, y_test = y.iloc[train_index], y.iloc[test_index]\n",
        "    #Running models with different smoothing parameters\n",
        "    #The smoothing parameter ensures that the probability value is never zero.\n",
        "    #Applying a smoothing technique assigns a very small probability estimate to such zero frequency occurrences, hence, regularize the Naive Bayes classifier.\n",
        "    for alpha in alpha_range:\n",
        "        # Initialise the Model object\n",
        "        if (model_type == 'GaussianNB'):\n",
        "            classifier = GaussianNB() if alpha==0 else GaussianNB(var_smoothing=alpha)\n",
        "        elif (model_type == 'BernoulliNB'):\n",
        "            classifier = BernoulliNB(alpha=alpha, binarize=0.0)\n",
        "        elif (model_type == 'MultinomialNB'):\n",
        "            classifier = MultinomialNB(alpha=alpha)\n",
        "\n",
        "        # Train Model Classifer\n",
        "        classifier.fit(X_train,y_train)\n",
        "        # Y_train : Predict the response for train dataset and Finding the accuracy score of the model\n",
        "        y_train_predictions = classifier.predict(X_train)\n",
        "        y_train_accuracy = round(accuracy_score(y_train, y_train_predictions), 5)\n",
        "        \n",
        "        # Y_test : Predict the response for test dataset and Finding the accuracy score of the model\n",
        "        y_test_predictions = classifier.predict(X_test)\n",
        "        y_test_accuracy = round(accuracy_score(y_test, y_test_predictions), 5)\n",
        "\n",
        "        # Finding r_metrics_train : Using the regularization metrics with the model predicted scores calculating the r_metrics values [R2, MAE, MSE, RMSE]\n",
        "        r_metrics_train = r_metrics_train.append({'Fold_No':fold_no, 'Model':model_type, 'Alpha':alpha,'Accuracy':y_train_accuracy},ignore_index=True)\n",
        "        r_metrics_train = regularization_metrics(y_train, y_train_predictions, r_metrics_train)\n",
        "        \n",
        "        # Finding r_metrics_test : using the regularization metrics with the model predicted scores calculating the r_metrics values [R2, MAE, MSE, RMSE]\n",
        "        r_metrics_test = r_metrics_test.append({'Fold_No':fold_no, 'Model':model_type, 'Alpha':alpha,'Accuracy':y_test_accuracy},ignore_index=True)\n",
        "        r_metrics_test = regularization_metrics(y_test, y_test_predictions, r_metrics_test)\n",
        "        \n",
        "        # Reason for finding both y_train and y_test values are because we want to know if it is underfitting/overfitting/just right model.\n",
        "\n",
        "        #Storing the result of classfier with alpha which produces best accuracy \n",
        "        #Taking the highest accuracy model for Each Model Type\n",
        "        if(model_type in classifier_data):\n",
        "            if(classifier_data.get(model_type)['accuracy'] < y_test_accuracy ):\n",
        "                classifier_data.update({model_type: {'classifier':classifier, 'accuracy':y_test_accuracy, 'y_test':y_test, 'predictions':y_test_predictions}})\n",
        "        else:\n",
        "            classifier_data.__setitem__(model_type, {'classifier':classifier, 'accuracy':y_test_accuracy, 'y_test':y_test, 'predictions':y_test_predictions})\n",
        "\n",
        "# Method to calculate regularize metrics for the predict score of a given model \n",
        "def regularization_metrics(y_test, predictions, r_metrics):\n",
        "    \"\"\"\n",
        "    Regularization Metrics\n",
        "\n",
        "    we should see an increase in R-Square Value as we applied regularization.\n",
        "    we should see a decrease in other metrics MAE, MSE and RMSE with different values\n",
        "    \"\"\"\n",
        "\n",
        "    # calculate R^2 value, MAE, MSE, RMSE\n",
        "\n",
        "    \n",
        "    r_metrics.loc[r_metrics.index[-1], 'R2'] = r2_score(y_test,predictions)\n",
        "    r_metrics.loc[r_metrics.index[-1], 'MAE'] = metrics.mean_absolute_error(y_test, predictions)\n",
        "    r_metrics.loc[r_metrics.index[-1], 'MSE'] = metrics.mean_squared_error(y_test, predictions)\n",
        "    r_metrics.loc[r_metrics.index[-1], 'RMSE'] = np.sqrt(metrics.mean_squared_error(y_test, predictions))\n",
        "\n",
        "    return r_metrics\n",
        "\n",
        "\n",
        "def extract_evaluation_parameters(y_test, predictions):\n",
        "    \"\"\"\n",
        "    using following evaluation metrics\n",
        "    Accuracy\n",
        "    Precision\n",
        "    Recall\n",
        "    F1 Score\n",
        "    Confusion Matrix\n",
        "\n",
        "    to be computed from test data and predictions\n",
        "    :param y_test:\n",
        "    :param predictions:\n",
        "    :return:\n",
        "    \"\"\"\n",
        "    eval={}\n",
        "    eval.__setitem__('accuracy', accuracy_score(y_test, predictions))\n",
        "    eval.__setitem__('precision', precision_score(y_test, predictions))\n",
        "    eval.__setitem__('recall', recall_score(y_test, predictions))\n",
        "    eval.__setitem__('f1_score', f1_score(y_test, predictions))\n",
        "    eval.__setitem__('confusion_matrix', confusion_matrix(y_test, predictions))\n",
        "    df_eval=pd.DataFrame.from_dict(eval, orient='index')\n",
        "    print(df_eval)\n",
        "\n",
        "\n",
        "def print_model_evaluation_results():\n",
        "    # run evaluation metrics for each classification.\n",
        "    # Among the various run of classifications, we have kept the one which produced best accuracy. This selection criteria can be changed.\n",
        "    for classifier in classifier_data:\n",
        "        val = classifier_data.get(classifier)\n",
        "        print(\"\\n\")\n",
        "        print(\"Best Accuracy Result in each model : \", classifier)\n",
        "        extract_evaluation_parameters(val['y_test'], val['predictions'])"
      ],
      "metadata": {
        "id": "CtWIbkcthdEL"
      },
      "id": "CtWIbkcthdEL",
      "execution_count": null,
      "outputs": []
    },
    {
      "cell_type": "markdown",
      "id": "83aac43a",
      "metadata": {
        "id": "83aac43a"
      },
      "source": [
        "# Normal KFold"
      ]
    },
    {
      "cell_type": "markdown",
      "source": [
        "Normal KFold way of splitting the dataset is as below :\n",
        "Mention the n_splits i,e how many splits are needed\n",
        "\n",
        "\n",
        "But Kfold in its split method **does not accept the parameter of test_size** like 20 % etc hence to overcome this\n",
        "we can use StratifiedShuffleSplit which will accept the test_size along with n_splits."
      ],
      "metadata": {
        "id": "k_5xizh0kd7D"
      },
      "id": "k_5xizh0kd7D"
    },
    {
      "cell_type": "code",
      "execution_count": null,
      "id": "0a11350a",
      "metadata": {
        "id": "0a11350a",
        "colab": {
          "base_uri": "https://localhost:8080/"
        },
        "outputId": "b5683897-e72d-43d7-b36f-b03fa6c708d0"
      },
      "outputs": [
        {
          "output_type": "stream",
          "name": "stdout",
          "text": [
            "Normal KFold without Train Size\n",
            "Fold Number:  1\n"
          ]
        },
        {
          "output_type": "stream",
          "name": "stderr",
          "text": [
            "/usr/local/lib/python3.7/dist-packages/sklearn/naive_bayes.py:557: UserWarning: alpha too small will result in numeric errors, setting alpha = 1.0e-10\n",
            "  % _ALPHA_MIN\n",
            "/usr/local/lib/python3.7/dist-packages/sklearn/naive_bayes.py:557: UserWarning: alpha too small will result in numeric errors, setting alpha = 1.0e-10\n",
            "  % _ALPHA_MIN\n"
          ]
        },
        {
          "output_type": "stream",
          "name": "stdout",
          "text": [
            "\n",
            "\n",
            "Fold Number:  2\n"
          ]
        },
        {
          "output_type": "stream",
          "name": "stderr",
          "text": [
            "/usr/local/lib/python3.7/dist-packages/sklearn/naive_bayes.py:557: UserWarning: alpha too small will result in numeric errors, setting alpha = 1.0e-10\n",
            "  % _ALPHA_MIN\n",
            "/usr/local/lib/python3.7/dist-packages/sklearn/naive_bayes.py:557: UserWarning: alpha too small will result in numeric errors, setting alpha = 1.0e-10\n",
            "  % _ALPHA_MIN\n"
          ]
        },
        {
          "output_type": "stream",
          "name": "stdout",
          "text": [
            "\n",
            "\n"
          ]
        }
      ],
      "source": [
        "fold_size = 2\n",
        "kf = KFold(n_splits=fold_size)\n",
        "test_models = ['GaussianNB','BernoulliNB', 'MultinomialNB']\n",
        "fold_no = 1\n",
        "# split()  method generate indices to split data into training and test set.\n",
        "print('Normal KFold without Train Size')\n",
        "for train_index, test_index in kf.split(X, y):\n",
        "  print('Fold Number: ', str(fold_no))\n",
        "  for model_type in test_models:\n",
        "    train_model(model_type, X, y , train_index, test_index)\n",
        "  fold_no = fold_no + 1 \n",
        "  print('\\n')\n",
        "   "
      ]
    },
    {
      "cell_type": "code",
      "source": [
        "r_metrics_train[r_metrics_train['Model']=='GaussianNB']"
      ],
      "metadata": {
        "colab": {
          "base_uri": "https://localhost:8080/",
          "height": 238
        },
        "id": "7-bWEEL-oTV5",
        "outputId": "2cc94664-a4fd-488c-c900-3e320f113087"
      },
      "id": "7-bWEEL-oTV5",
      "execution_count": null,
      "outputs": [
        {
          "output_type": "execute_result",
          "data": {
            "text/plain": [
              "   Fold_No       Model  Alpha  Accuracy        R2       MAE       MSE  \\\n",
              "0        1  GaussianNB   0.00   0.83884  0.343103  0.161161  0.161161   \n",
              "1        1  GaussianNB   0.01   0.82161  0.272889  0.178387  0.178387   \n",
              "2        1  GaussianNB   0.10   0.80794  0.217153  0.192062  0.192062   \n",
              "9        2  GaussianNB   0.00   0.84115  0.351798  0.158853  0.158853   \n",
              "10       2  GaussianNB   0.01   0.81566  0.247811  0.184337  0.184337   \n",
              "11       2  GaussianNB   0.10   0.79977  0.182954  0.200231  0.200231   \n",
              "\n",
              "        RMSE  \n",
              "0   0.401449  \n",
              "1   0.422359  \n",
              "2   0.438249  \n",
              "9   0.398563  \n",
              "10  0.429345  \n",
              "11  0.447472  "
            ],
            "text/html": [
              "\n",
              "  <div id=\"df-ec98fdde-d989-46d7-a28a-722630b47665\">\n",
              "    <div class=\"colab-df-container\">\n",
              "      <div>\n",
              "<style scoped>\n",
              "    .dataframe tbody tr th:only-of-type {\n",
              "        vertical-align: middle;\n",
              "    }\n",
              "\n",
              "    .dataframe tbody tr th {\n",
              "        vertical-align: top;\n",
              "    }\n",
              "\n",
              "    .dataframe thead th {\n",
              "        text-align: right;\n",
              "    }\n",
              "</style>\n",
              "<table border=\"1\" class=\"dataframe\">\n",
              "  <thead>\n",
              "    <tr style=\"text-align: right;\">\n",
              "      <th></th>\n",
              "      <th>Fold_No</th>\n",
              "      <th>Model</th>\n",
              "      <th>Alpha</th>\n",
              "      <th>Accuracy</th>\n",
              "      <th>R2</th>\n",
              "      <th>MAE</th>\n",
              "      <th>MSE</th>\n",
              "      <th>RMSE</th>\n",
              "    </tr>\n",
              "  </thead>\n",
              "  <tbody>\n",
              "    <tr>\n",
              "      <th>0</th>\n",
              "      <td>1</td>\n",
              "      <td>GaussianNB</td>\n",
              "      <td>0.00</td>\n",
              "      <td>0.83884</td>\n",
              "      <td>0.343103</td>\n",
              "      <td>0.161161</td>\n",
              "      <td>0.161161</td>\n",
              "      <td>0.401449</td>\n",
              "    </tr>\n",
              "    <tr>\n",
              "      <th>1</th>\n",
              "      <td>1</td>\n",
              "      <td>GaussianNB</td>\n",
              "      <td>0.01</td>\n",
              "      <td>0.82161</td>\n",
              "      <td>0.272889</td>\n",
              "      <td>0.178387</td>\n",
              "      <td>0.178387</td>\n",
              "      <td>0.422359</td>\n",
              "    </tr>\n",
              "    <tr>\n",
              "      <th>2</th>\n",
              "      <td>1</td>\n",
              "      <td>GaussianNB</td>\n",
              "      <td>0.10</td>\n",
              "      <td>0.80794</td>\n",
              "      <td>0.217153</td>\n",
              "      <td>0.192062</td>\n",
              "      <td>0.192062</td>\n",
              "      <td>0.438249</td>\n",
              "    </tr>\n",
              "    <tr>\n",
              "      <th>9</th>\n",
              "      <td>2</td>\n",
              "      <td>GaussianNB</td>\n",
              "      <td>0.00</td>\n",
              "      <td>0.84115</td>\n",
              "      <td>0.351798</td>\n",
              "      <td>0.158853</td>\n",
              "      <td>0.158853</td>\n",
              "      <td>0.398563</td>\n",
              "    </tr>\n",
              "    <tr>\n",
              "      <th>10</th>\n",
              "      <td>2</td>\n",
              "      <td>GaussianNB</td>\n",
              "      <td>0.01</td>\n",
              "      <td>0.81566</td>\n",
              "      <td>0.247811</td>\n",
              "      <td>0.184337</td>\n",
              "      <td>0.184337</td>\n",
              "      <td>0.429345</td>\n",
              "    </tr>\n",
              "    <tr>\n",
              "      <th>11</th>\n",
              "      <td>2</td>\n",
              "      <td>GaussianNB</td>\n",
              "      <td>0.10</td>\n",
              "      <td>0.79977</td>\n",
              "      <td>0.182954</td>\n",
              "      <td>0.200231</td>\n",
              "      <td>0.200231</td>\n",
              "      <td>0.447472</td>\n",
              "    </tr>\n",
              "  </tbody>\n",
              "</table>\n",
              "</div>\n",
              "      <button class=\"colab-df-convert\" onclick=\"convertToInteractive('df-ec98fdde-d989-46d7-a28a-722630b47665')\"\n",
              "              title=\"Convert this dataframe to an interactive table.\"\n",
              "              style=\"display:none;\">\n",
              "        \n",
              "  <svg xmlns=\"http://www.w3.org/2000/svg\" height=\"24px\"viewBox=\"0 0 24 24\"\n",
              "       width=\"24px\">\n",
              "    <path d=\"M0 0h24v24H0V0z\" fill=\"none\"/>\n",
              "    <path d=\"M18.56 5.44l.94 2.06.94-2.06 2.06-.94-2.06-.94-.94-2.06-.94 2.06-2.06.94zm-11 1L8.5 8.5l.94-2.06 2.06-.94-2.06-.94L8.5 2.5l-.94 2.06-2.06.94zm10 10l.94 2.06.94-2.06 2.06-.94-2.06-.94-.94-2.06-.94 2.06-2.06.94z\"/><path d=\"M17.41 7.96l-1.37-1.37c-.4-.4-.92-.59-1.43-.59-.52 0-1.04.2-1.43.59L10.3 9.45l-7.72 7.72c-.78.78-.78 2.05 0 2.83L4 21.41c.39.39.9.59 1.41.59.51 0 1.02-.2 1.41-.59l7.78-7.78 2.81-2.81c.8-.78.8-2.07 0-2.86zM5.41 20L4 18.59l7.72-7.72 1.47 1.35L5.41 20z\"/>\n",
              "  </svg>\n",
              "      </button>\n",
              "      \n",
              "  <style>\n",
              "    .colab-df-container {\n",
              "      display:flex;\n",
              "      flex-wrap:wrap;\n",
              "      gap: 12px;\n",
              "    }\n",
              "\n",
              "    .colab-df-convert {\n",
              "      background-color: #E8F0FE;\n",
              "      border: none;\n",
              "      border-radius: 50%;\n",
              "      cursor: pointer;\n",
              "      display: none;\n",
              "      fill: #1967D2;\n",
              "      height: 32px;\n",
              "      padding: 0 0 0 0;\n",
              "      width: 32px;\n",
              "    }\n",
              "\n",
              "    .colab-df-convert:hover {\n",
              "      background-color: #E2EBFA;\n",
              "      box-shadow: 0px 1px 2px rgba(60, 64, 67, 0.3), 0px 1px 3px 1px rgba(60, 64, 67, 0.15);\n",
              "      fill: #174EA6;\n",
              "    }\n",
              "\n",
              "    [theme=dark] .colab-df-convert {\n",
              "      background-color: #3B4455;\n",
              "      fill: #D2E3FC;\n",
              "    }\n",
              "\n",
              "    [theme=dark] .colab-df-convert:hover {\n",
              "      background-color: #434B5C;\n",
              "      box-shadow: 0px 1px 3px 1px rgba(0, 0, 0, 0.15);\n",
              "      filter: drop-shadow(0px 1px 2px rgba(0, 0, 0, 0.3));\n",
              "      fill: #FFFFFF;\n",
              "    }\n",
              "  </style>\n",
              "\n",
              "      <script>\n",
              "        const buttonEl =\n",
              "          document.querySelector('#df-ec98fdde-d989-46d7-a28a-722630b47665 button.colab-df-convert');\n",
              "        buttonEl.style.display =\n",
              "          google.colab.kernel.accessAllowed ? 'block' : 'none';\n",
              "\n",
              "        async function convertToInteractive(key) {\n",
              "          const element = document.querySelector('#df-ec98fdde-d989-46d7-a28a-722630b47665');\n",
              "          const dataTable =\n",
              "            await google.colab.kernel.invokeFunction('convertToInteractive',\n",
              "                                                     [key], {});\n",
              "          if (!dataTable) return;\n",
              "\n",
              "          const docLinkHtml = 'Like what you see? Visit the ' +\n",
              "            '<a target=\"_blank\" href=https://colab.research.google.com/notebooks/data_table.ipynb>data table notebook</a>'\n",
              "            + ' to learn more about interactive tables.';\n",
              "          element.innerHTML = '';\n",
              "          dataTable['output_type'] = 'display_data';\n",
              "          await google.colab.output.renderOutput(dataTable, element);\n",
              "          const docLink = document.createElement('div');\n",
              "          docLink.innerHTML = docLinkHtml;\n",
              "          element.appendChild(docLink);\n",
              "        }\n",
              "      </script>\n",
              "    </div>\n",
              "  </div>\n",
              "  "
            ]
          },
          "metadata": {},
          "execution_count": 434
        }
      ]
    },
    {
      "cell_type": "code",
      "source": [
        "print_model_evaluation_results()"
      ],
      "metadata": {
        "colab": {
          "base_uri": "https://localhost:8080/"
        },
        "id": "CCjWVNTNlgg6",
        "outputId": "65543c84-53b9-4cce-c383-b49afd88fb17"
      },
      "id": "CCjWVNTNlgg6",
      "execution_count": null,
      "outputs": [
        {
          "output_type": "stream",
          "name": "stdout",
          "text": [
            "\n",
            "\n",
            "Best Accuracy Result in each model :  GaussianNB\n",
            "                                            0\n",
            "accuracy                             0.848251\n",
            "precision                            0.760191\n",
            "recall                               0.947347\n",
            "f1_score                             0.843512\n",
            "confusion_matrix  [[4947, 1453], [256, 4606]]\n",
            "\n",
            "\n",
            "Best Accuracy Result in each model :  BernoulliNB\n",
            "                                           0\n",
            "accuracy                            0.903126\n",
            "precision                           0.872886\n",
            "recall                              0.906612\n",
            "f1_score                            0.889429\n",
            "confusion_matrix  [[5783, 639], [452, 4388]]\n",
            "\n",
            "\n",
            "Best Accuracy Result in each model :  MultinomialNB\n",
            "                                            0\n",
            "accuracy                             0.831113\n",
            "precision                            0.737179\n",
            "recall                               0.946113\n",
            "f1_score                              0.82868\n",
            "confusion_matrix  [[4760, 1640], [262, 4600]]\n"
          ]
        }
      ]
    },
    {
      "cell_type": "markdown",
      "source": [
        "# Conclusion : Based on Results we can conclude and consider the BernoulliNB Model . The reasons are accuracy , Precision are relatively higher compared to other models."
      ],
      "metadata": {
        "id": "3mlRPQipiffx"
      },
      "id": "3mlRPQipiffx"
    },
    {
      "cell_type": "markdown",
      "source": [
        "# Underfitting/Overfitting/Just right model"
      ],
      "metadata": {
        "id": "39Z8opjhi9H3"
      },
      "id": "39Z8opjhi9H3"
    },
    {
      "cell_type": "code",
      "source": [
        "# Plot the graph to check if the result is underfitting/overfitting/just right model.\n",
        "\n",
        "total_folds_and_alpha = []\n",
        "fold_size = kf.get_n_splits()\n",
        "alpha_size = len(alpha_range)\n",
        "for i in range(1,(fold_size * alpha_size)+1):\n",
        "    total_folds_and_alpha.append(i)\n",
        "\n",
        "\n",
        "def plot_mea_graph(model_type):\n",
        "  model_r_metrics_train = r_metrics_train[r_metrics_train['Model'] == model_type]\n",
        "  model_r_metrics_test = r_metrics_test[r_metrics_test['Model'] == model_type]\n",
        "\n",
        "\n",
        "  plt.plot(total_folds_and_alpha, model_r_metrics_train['MAE'].to_numpy(), 'o-', color='green', label='train')\n",
        "  plt.plot(total_folds_and_alpha, model_r_metrics_test['MAE'].to_numpy(), 'o-', color='red', label='test')\n",
        "  plt.xlabel(f'Number of folds_size({fold_size}) *  Number of aplha Values({alpha_size})')\n",
        "  plt.ylabel('Mean Absolute Error')\n",
        "  plt.show()"
      ],
      "metadata": {
        "id": "3uE3rHWpgbyF"
      },
      "id": "3uE3rHWpgbyF",
      "execution_count": null,
      "outputs": []
    },
    {
      "cell_type": "code",
      "source": [
        "plot_mea_graph('GaussianNB')"
      ],
      "metadata": {
        "colab": {
          "base_uri": "https://localhost:8080/",
          "height": 280
        },
        "id": "7B6OJa4Fh39H",
        "outputId": "0b46eede-2b94-4412-c17e-0e765131b159"
      },
      "id": "7B6OJa4Fh39H",
      "execution_count": null,
      "outputs": [
        {
          "output_type": "display_data",
          "data": {
            "text/plain": [
              "<Figure size 432x288 with 1 Axes>"
            ],
            "image/png": "[encoded data removed]"
          },
          "metadata": {
            "needs_background": "light"
          }
        }
      ]
    },
    {
      "cell_type": "markdown",
      "source": [
        "Gaussian : Error on train and test data are in similar lines and went sharply low at 4th fold. After that it increased - where error on test data was slightly more than train data.\n",
        "But in all, error on both test and train data were in same range and thus qualify  to underfitting model. "
      ],
      "metadata": {
        "id": "4ldfKe8Hw-qQ"
      },
      "id": "4ldfKe8Hw-qQ"
    },
    {
      "cell_type": "code",
      "source": [
        "plot_mea_graph('BernoulliNB')\n"
      ],
      "metadata": {
        "colab": {
          "base_uri": "https://localhost:8080/",
          "height": 280
        },
        "id": "Ga64g4gPUSY_",
        "outputId": "237c9d02-2fac-4208-f048-ddf6378458b2"
      },
      "id": "Ga64g4gPUSY_",
      "execution_count": null,
      "outputs": [
        {
          "output_type": "display_data",
          "data": {
            "text/plain": [
              "<Figure size 432x288 with 1 Axes>"
            ],
            "image/png": "[encoded data removed]"
          },
          "metadata": {
            "needs_background": "light"
          }
        }
      ]
    },
    {
      "cell_type": "markdown",
      "source": [
        "Bernolli : The model error for both test and train data was very low initially. It rose after three fold but still remains in reasonable limits.\n",
        "By virtue of this, we can say that this model was just fitting - where both test and train data have low and acceptable error\n"
      ],
      "metadata": {
        "id": "pjQ2HDILw74G"
      },
      "id": "pjQ2HDILw74G"
    },
    {
      "cell_type": "code",
      "source": [
        "plot_mea_graph('MultinomialNB')"
      ],
      "metadata": {
        "colab": {
          "base_uri": "https://localhost:8080/",
          "height": 280
        },
        "id": "D6KgHDW9Ucs6",
        "outputId": "ca0929e7-618c-4a96-cdd5-884f7fe26b11"
      },
      "id": "D6KgHDW9Ucs6",
      "execution_count": null,
      "outputs": [
        {
          "output_type": "display_data",
          "data": {
            "text/plain": [
              "<Figure size 432x288 with 1 Axes>"
            ],
            "image/png": "[encoded data removed]"
          },
          "metadata": {
            "needs_background": "light"
          }
        }
      ]
    },
    {
      "cell_type": "markdown",
      "source": [
        "\n",
        "Multinomial : Initially the error on model’s train data was higher and was lower on test data - which is a good sign for a good model.\n",
        "But after 3 folds, the error on train data sharply decreased while error on test data sharply increased - leading the model to a over fitting state"
      ],
      "metadata": {
        "id": "VHbJdLkEwurO"
      },
      "id": "VHbJdLkEwurO"
    },
    {
      "cell_type": "code",
      "source": [
        "# Resetting Classifier Data - We want to run it with split hence we use StratifiedShuffleSplit where we will pass fold_numbers , split_size.\n",
        "r_metrics_train = pd.DataFrame(columns=r_metrics_cols)\n",
        "r_metrics_test = pd.DataFrame(columns=r_metrics_cols)\n",
        "classifier_data={}"
      ],
      "metadata": {
        "id": "z2tmWf4bk1Uk"
      },
      "id": "z2tmWf4bk1Uk",
      "execution_count": null,
      "outputs": []
    },
    {
      "cell_type": "markdown",
      "id": "49ff07aa",
      "metadata": {
        "id": "49ff07aa"
      },
      "source": [
        "# StratifiedShuffleSplit KFold"
      ]
    },
    {
      "cell_type": "markdown",
      "source": [
        "Reason to use this : It takes both fold_size and test_size ."
      ],
      "metadata": {
        "id": "tvQNoNInmQAi"
      },
      "id": "tvQNoNInmQAi"
    },
    {
      "cell_type": "code",
      "execution_count": null,
      "id": "4d86eeeb",
      "metadata": {
        "id": "4d86eeeb",
        "colab": {
          "base_uri": "https://localhost:8080/"
        },
        "outputId": "b6a69926-a54d-4764-8f07-8286171ffbee"
      },
      "outputs": [
        {
          "output_type": "stream",
          "name": "stdout",
          "text": [
            "StratifiedShuffleSplit KFold With Train Size\n",
            "Scenario: Test Data Size :  20.0 % Train Data Size:  80 %\n",
            "Fold Number:  1\n"
          ]
        },
        {
          "output_type": "stream",
          "name": "stderr",
          "text": [
            "/usr/local/lib/python3.7/dist-packages/sklearn/naive_bayes.py:557: UserWarning: alpha too small will result in numeric errors, setting alpha = 1.0e-10\n",
            "  % _ALPHA_MIN\n",
            "/usr/local/lib/python3.7/dist-packages/sklearn/naive_bayes.py:557: UserWarning: alpha too small will result in numeric errors, setting alpha = 1.0e-10\n",
            "  % _ALPHA_MIN\n"
          ]
        },
        {
          "output_type": "stream",
          "name": "stdout",
          "text": [
            "\n",
            "\n",
            "Fold Number:  2\n"
          ]
        },
        {
          "output_type": "stream",
          "name": "stderr",
          "text": [
            "/usr/local/lib/python3.7/dist-packages/sklearn/naive_bayes.py:557: UserWarning: alpha too small will result in numeric errors, setting alpha = 1.0e-10\n",
            "  % _ALPHA_MIN\n",
            "/usr/local/lib/python3.7/dist-packages/sklearn/naive_bayes.py:557: UserWarning: alpha too small will result in numeric errors, setting alpha = 1.0e-10\n",
            "  % _ALPHA_MIN\n"
          ]
        },
        {
          "output_type": "stream",
          "name": "stdout",
          "text": [
            "\n",
            "\n",
            "Scenario: Test Data Size :  90.0 % Train Data Size:  10 %\n",
            "Fold Number:  1\n"
          ]
        },
        {
          "output_type": "stream",
          "name": "stderr",
          "text": [
            "/usr/local/lib/python3.7/dist-packages/sklearn/naive_bayes.py:557: UserWarning: alpha too small will result in numeric errors, setting alpha = 1.0e-10\n",
            "  % _ALPHA_MIN\n",
            "/usr/local/lib/python3.7/dist-packages/sklearn/naive_bayes.py:557: UserWarning: alpha too small will result in numeric errors, setting alpha = 1.0e-10\n",
            "  % _ALPHA_MIN\n"
          ]
        },
        {
          "output_type": "stream",
          "name": "stdout",
          "text": [
            "\n",
            "\n",
            "Fold Number:  2\n",
            "\n",
            "\n"
          ]
        },
        {
          "output_type": "stream",
          "name": "stderr",
          "text": [
            "/usr/local/lib/python3.7/dist-packages/sklearn/naive_bayes.py:557: UserWarning: alpha too small will result in numeric errors, setting alpha = 1.0e-10\n",
            "  % _ALPHA_MIN\n",
            "/usr/local/lib/python3.7/dist-packages/sklearn/naive_bayes.py:557: UserWarning: alpha too small will result in numeric errors, setting alpha = 1.0e-10\n",
            "  % _ALPHA_MIN\n"
          ]
        }
      ],
      "source": [
        "# KFold Size = 2 i,e \n",
        "fold_size = 2\n",
        "test_models = ['GaussianNB','BernoulliNB', 'MultinomialNB']\n",
        "\n",
        "\n",
        "# Run test for Each Test size \n",
        "# Scenario 1 ) Split into 2 folds with Test data = 20 % and Training Data = 80%\n",
        "# Scenario 2 ) Split into 2 folds with Test data = 90 % and Training Data = 10%\n",
        "# Used StratifiedShuffleSplit because normal Kfold does not allow test_size to be mentioned while splitting\n",
        "print('StratifiedShuffleSplit KFold With Train Size')\n",
        "for test_size in [0.2, 0.90]:\n",
        "    sss = StratifiedShuffleSplit(n_splits=fold_size, test_size=test_size, random_state=1)\n",
        "    fold_no = 1\n",
        "    print('Scenario: Test Data Size : ', str((test_size)*100), '%' , 'Train Data Size: ', str(round((1-test_size)*100)), '%')\n",
        "    # Each Model what is result for same train data and test data\n",
        "    for train_index, test_index in sss.split(X, y):\n",
        "        print('Fold Number: ', str(fold_no))\n",
        "        for model_type in test_models:\n",
        "            train_model(model_type, X, y , train_index, test_index)\n",
        "        fold_no = fold_no + 1 \n",
        "        print('\\n')\n",
        "       "
      ]
    },
    {
      "cell_type": "code",
      "source": [
        "print_model_evaluation_results()\n"
      ],
      "metadata": {
        "id": "mhIPnwWW6jjd",
        "colab": {
          "base_uri": "https://localhost:8080/"
        },
        "outputId": "c9a4d9cb-2563-4fc5-cf76-b0c0a569f1a9"
      },
      "id": "mhIPnwWW6jjd",
      "execution_count": null,
      "outputs": [
        {
          "output_type": "stream",
          "name": "stdout",
          "text": [
            "\n",
            "\n",
            "Best Accuracy Result in each model :  GaussianNB\n",
            "                                            0\n",
            "accuracy                             0.863605\n",
            "precision                            0.786572\n",
            "recall                               0.937815\n",
            "f1_score                             0.855561\n",
            "confusion_matrix  [[9318, 2222], [543, 8189]]\n",
            "\n",
            "\n",
            "Best Accuracy Result in each model :  BernoulliNB\n",
            "                                           0\n",
            "accuracy                            0.899445\n",
            "precision                           0.875695\n",
            "recall                              0.893299\n",
            "f1_score                            0.884409\n",
            "confusion_matrix  [[2319, 246], [207, 1733]]\n",
            "\n",
            "\n",
            "Best Accuracy Result in each model :  MultinomialNB\n",
            "                                            0\n",
            "accuracy                             0.839335\n",
            "precision                            0.750114\n",
            "recall                                0.94022\n",
            "f1_score                             0.834477\n",
            "confusion_matrix  [[8805, 2735], [522, 8210]]\n"
          ]
        }
      ]
    },
    {
      "cell_type": "markdown",
      "source": [
        "# Conclusion : Based on Results we can conclude and consider the **BernoulliNB** **Model** . The reasons are accuracy , Precision are relatively higher compared to other models and confusion_matrix is lower."
      ],
      "metadata": {
        "id": "9c7danYBl52_"
      },
      "id": "9c7danYBl52_"
    }
  ],
  "metadata": {
    "kernelspec": {
      "display_name": "Python 3",
      "language": "python",
      "name": "python3"
    },
    "language_info": {
      "codemirror_mode": {
        "name": "ipython",
        "version": 3
      },
      "file_extension": ".py",
      "mimetype": "text/x-python",
      "name": "python",
      "nbconvert_exporter": "python",
      "pygments_lexer": "ipython3",
      "version": "3.8.8"
    },
    "colab": {
      "provenance": [],
      "collapsed_sections": [
        "qk_aO8AEpTA2",
        "8ab6c86c",
        "826bf324",
        "6a38a14d",
        "b568456a"
      ]
    }
  },
  "nbformat": 4,
  "nbformat_minor": 5
}